{
  "cells": [
    {
      "cell_type": "markdown",
      "metadata": {
        "id": "view-in-github",
        "colab_type": "text"
      },
      "source": [
        "<a href=\"https://colab.research.google.com/github/akashsabale01/DSBDA_Lab/blob/main/Ass_No_5_Logistic_Regression.ipynb\" target=\"_parent\"><img src=\"https://colab.research.google.com/assets/colab-badge.svg\" alt=\"Open In Colab\"/></a>"
      ]
    },
    {
      "cell_type": "code",
      "execution_count": null,
      "id": "c63e8277",
      "metadata": {
        "id": "c63e8277"
      },
      "outputs": [],
      "source": [
        "import pandas as pd\n",
        "import os\n",
        "from matplotlib import pyplot as plt\n",
        "%matplotlib inline"
      ]
    },
    {
      "cell_type": "code",
      "execution_count": null,
      "id": "98113a4a",
      "metadata": {
        "colab": {
          "base_uri": "https://localhost:8080/",
          "height": 200
        },
        "id": "98113a4a",
        "outputId": "c15ba0b2-c2f5-46f0-abab-7716045052bf"
      },
      "outputs": [
        {
          "output_type": "error",
          "ename": "FileNotFoundError",
          "evalue": "ignored",
          "traceback": [
            "\u001b[0;31m---------------------------------------------------------------------------\u001b[0m",
            "\u001b[0;31mFileNotFoundError\u001b[0m                         Traceback (most recent call last)",
            "\u001b[0;32m<ipython-input-10-20dda68002c8>\u001b[0m in \u001b[0;36m<module>\u001b[0;34m()\u001b[0m\n\u001b[0;32m----> 1\u001b[0;31m \u001b[0mos\u001b[0m\u001b[0;34m.\u001b[0m\u001b[0mchdir\u001b[0m\u001b[0;34m(\u001b[0m\u001b[0;34m\"D:\\Pandas\"\u001b[0m\u001b[0;34m)\u001b[0m\u001b[0;34m\u001b[0m\u001b[0;34m\u001b[0m\u001b[0m\n\u001b[0m\u001b[1;32m      2\u001b[0m \u001b[0mdf\u001b[0m \u001b[0;34m=\u001b[0m \u001b[0mpd\u001b[0m\u001b[0;34m.\u001b[0m\u001b[0mread_csv\u001b[0m\u001b[0;34m(\u001b[0m\u001b[0;34m\"insurance_data.csv\"\u001b[0m\u001b[0;34m)\u001b[0m\u001b[0;34m\u001b[0m\u001b[0;34m\u001b[0m\u001b[0m\n\u001b[1;32m      3\u001b[0m \u001b[0mdf\u001b[0m\u001b[0;34m.\u001b[0m\u001b[0mhead\u001b[0m\u001b[0;34m(\u001b[0m\u001b[0;34m)\u001b[0m\u001b[0;34m\u001b[0m\u001b[0;34m\u001b[0m\u001b[0m\n",
            "\u001b[0;31mFileNotFoundError\u001b[0m: [Errno 2] No such file or directory: 'D:\\\\Pandas'"
          ]
        }
      ],
      "source": [
        "os.chdir(\"D:\\Pandas\")\n",
        "df = pd.read_csv(\"insurance_data.csv\")\n",
        "df.head()"
      ]
    },
    {
      "cell_type": "code",
      "execution_count": null,
      "id": "19cf3b3f",
      "metadata": {
        "id": "19cf3b3f"
      },
      "outputs": [],
      "source": [
        "plt.scatter(df.Age,df.Have_insurance,marker='+',color='red')"
      ]
    },
    {
      "cell_type": "code",
      "execution_count": null,
      "id": "0dbf72be",
      "metadata": {
        "id": "0dbf72be"
      },
      "outputs": [],
      "source": [
        "from sklearn.model_selection import train_test_split\n",
        "X_train, X_test, y_train, y_test = train_test_split(df[['Age']],df.Have_insurance,train_size=0.8)\n",
        "X_test"
      ]
    },
    {
      "cell_type": "code",
      "execution_count": null,
      "id": "25eb4998",
      "metadata": {
        "id": "25eb4998"
      },
      "outputs": [],
      "source": [
        "from sklearn.linear_model import LogisticRegression\n",
        "model = LogisticRegression()"
      ]
    },
    {
      "cell_type": "code",
      "execution_count": null,
      "id": "9760e889",
      "metadata": {
        "id": "9760e889"
      },
      "outputs": [],
      "source": [
        "y_test"
      ]
    },
    {
      "cell_type": "code",
      "execution_count": null,
      "id": "c5bc2c6c",
      "metadata": {
        "id": "c5bc2c6c"
      },
      "outputs": [],
      "source": [
        "model.fit(X_train, y_train)"
      ]
    },
    {
      "cell_type": "code",
      "execution_count": null,
      "id": "c3d88792",
      "metadata": {
        "id": "c3d88792"
      },
      "outputs": [],
      "source": [
        "X_test"
      ]
    },
    {
      "cell_type": "code",
      "execution_count": null,
      "id": "7e87d7fb",
      "metadata": {
        "id": "7e87d7fb"
      },
      "outputs": [],
      "source": [
        "y_predicted = model.predict(X_test)\n",
        "model.predict_proba(X_test)"
      ]
    },
    {
      "cell_type": "code",
      "execution_count": null,
      "id": "779bc32e",
      "metadata": {
        "id": "779bc32e"
      },
      "outputs": [],
      "source": [
        "model.score(X_test,y_test)"
      ]
    },
    {
      "cell_type": "code",
      "execution_count": null,
      "id": "733d186b",
      "metadata": {
        "id": "733d186b"
      },
      "outputs": [],
      "source": [
        "y_predicted"
      ]
    },
    {
      "cell_type": "code",
      "execution_count": null,
      "id": "7199918c",
      "metadata": {
        "id": "7199918c"
      },
      "outputs": [],
      "source": [
        "model.coef_\n"
      ]
    },
    {
      "cell_type": "code",
      "execution_count": null,
      "id": "60e2c59f",
      "metadata": {
        "id": "60e2c59f"
      },
      "outputs": [],
      "source": [
        "model.intercept_"
      ]
    },
    {
      "cell_type": "code",
      "execution_count": null,
      "id": "f7e29983",
      "metadata": {
        "id": "f7e29983"
      },
      "outputs": [],
      "source": [
        "import math\n",
        "def sigmoid(x):\n",
        "  return 1 / (1 + math.exp(-x))"
      ]
    },
    {
      "cell_type": "code",
      "execution_count": null,
      "id": "e5364783",
      "metadata": {
        "id": "e5364783"
      },
      "outputs": [],
      "source": [
        "def prediction_function(age):\n",
        "    z = 0.042 * age - 1.53 # 0.04150133 ~ 0.042 and -1.52726963 ~ -1.53\n",
        "    y = sigmoid(z)\n",
        "    return y"
      ]
    },
    {
      "cell_type": "code",
      "execution_count": null,
      "id": "add7ae1b",
      "metadata": {
        "id": "add7ae1b"
      },
      "outputs": [],
      "source": [
        "age = 35\n",
        "prediction_function(age)"
      ]
    },
    {
      "cell_type": "code",
      "execution_count": null,
      "id": "18a33784",
      "metadata": {
        "id": "18a33784"
      },
      "outputs": [],
      "source": [
        "age = 43\n",
        "prediction_function(age)"
      ]
    },
    {
      "cell_type": "code",
      "execution_count": null,
      "id": "2a6f1f0a",
      "metadata": {
        "id": "2a6f1f0a"
      },
      "outputs": [],
      "source": [
        ""
      ]
    }
  ],
  "metadata": {
    "kernelspec": {
      "display_name": "Python 3",
      "language": "python",
      "name": "python3"
    },
    "language_info": {
      "codemirror_mode": {
        "name": "ipython",
        "version": 3
      },
      "file_extension": ".py",
      "mimetype": "text/x-python",
      "name": "python",
      "nbconvert_exporter": "python",
      "pygments_lexer": "ipython3",
      "version": "3.8.8"
    },
    "colab": {
      "name": "LogisticRegression_Simple.ipynb",
      "provenance": [],
      "collapsed_sections": [],
      "include_colab_link": true
    }
  },
  "nbformat": 4,
  "nbformat_minor": 5
}