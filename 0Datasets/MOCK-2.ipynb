{
 "cells": [
  {
   "cell_type": "code",
   "execution_count": 322,
   "id": "831160e9",
   "metadata": {},
   "outputs": [],
   "source": [
    "import pandas as pd\n",
    "import numpy as np\n",
    "import scipy as sc\n",
    "import matplotlib.pyplot as plt\n",
    "import seaborn as sns"
   ]
  },
  {
   "cell_type": "code",
   "execution_count": 323,
   "id": "db28586b",
   "metadata": {},
   "outputs": [],
   "source": [
    "%matplotlib inline"
   ]
  },
  {
   "cell_type": "code",
   "execution_count": 324,
   "id": "04b84e5b",
   "metadata": {},
   "outputs": [
    {
     "data": {
      "text/html": [
       "<div>\n",
       "<style scoped>\n",
       "    .dataframe tbody tr th:only-of-type {\n",
       "        vertical-align: middle;\n",
       "    }\n",
       "\n",
       "    .dataframe tbody tr th {\n",
       "        vertical-align: top;\n",
       "    }\n",
       "\n",
       "    .dataframe thead th {\n",
       "        text-align: right;\n",
       "    }\n",
       "</style>\n",
       "<table border=\"1\" class=\"dataframe\">\n",
       "  <thead>\n",
       "    <tr style=\"text-align: right;\">\n",
       "      <th></th>\n",
       "      <th>gender</th>\n",
       "      <th>race/ethnicity</th>\n",
       "      <th>parental level of education</th>\n",
       "      <th>lunch</th>\n",
       "      <th>test preparation course</th>\n",
       "      <th>math score</th>\n",
       "      <th>reading score</th>\n",
       "      <th>writing score</th>\n",
       "    </tr>\n",
       "  </thead>\n",
       "  <tbody>\n",
       "    <tr>\n",
       "      <th>0</th>\n",
       "      <td>female</td>\n",
       "      <td>group B</td>\n",
       "      <td>bachelor's degree</td>\n",
       "      <td>standard</td>\n",
       "      <td>none</td>\n",
       "      <td>172.0</td>\n",
       "      <td>72.0</td>\n",
       "      <td>74</td>\n",
       "    </tr>\n",
       "    <tr>\n",
       "      <th>1</th>\n",
       "      <td>female</td>\n",
       "      <td>group C</td>\n",
       "      <td>some college</td>\n",
       "      <td>standard</td>\n",
       "      <td>completed</td>\n",
       "      <td>NaN</td>\n",
       "      <td>NaN</td>\n",
       "      <td>88</td>\n",
       "    </tr>\n",
       "    <tr>\n",
       "      <th>2</th>\n",
       "      <td>female</td>\n",
       "      <td>group B</td>\n",
       "      <td>master's degree</td>\n",
       "      <td>standard</td>\n",
       "      <td>none</td>\n",
       "      <td>90.0</td>\n",
       "      <td>95.0</td>\n",
       "      <td>93</td>\n",
       "    </tr>\n",
       "    <tr>\n",
       "      <th>3</th>\n",
       "      <td>male</td>\n",
       "      <td>group A</td>\n",
       "      <td>associate's degree</td>\n",
       "      <td>free/reduced</td>\n",
       "      <td>none</td>\n",
       "      <td>47.0</td>\n",
       "      <td>NaN</td>\n",
       "      <td>44</td>\n",
       "    </tr>\n",
       "    <tr>\n",
       "      <th>4</th>\n",
       "      <td>male</td>\n",
       "      <td>group C</td>\n",
       "      <td>some college</td>\n",
       "      <td>standard</td>\n",
       "      <td>none</td>\n",
       "      <td>-9.0</td>\n",
       "      <td>78.0</td>\n",
       "      <td>75</td>\n",
       "    </tr>\n",
       "  </tbody>\n",
       "</table>\n",
       "</div>"
      ],
      "text/plain": [
       "   gender race/ethnicity parental level of education         lunch  \\\n",
       "0  female        group B           bachelor's degree      standard   \n",
       "1  female        group C                some college      standard   \n",
       "2  female        group B             master's degree      standard   \n",
       "3    male        group A          associate's degree  free/reduced   \n",
       "4    male        group C                some college      standard   \n",
       "\n",
       "  test preparation course  math score  reading score  writing score  \n",
       "0                    none       172.0           72.0             74  \n",
       "1               completed         NaN            NaN             88  \n",
       "2                    none        90.0           95.0             93  \n",
       "3                    none        47.0            NaN             44  \n",
       "4                    none        -9.0           78.0             75  "
      ]
     },
     "execution_count": 324,
     "metadata": {},
     "output_type": "execute_result"
    }
   ],
   "source": [
    "df = pd.read_csv(\"StudentsPerformance.csv\")\n",
    "df.head()"
   ]
  },
  {
   "cell_type": "code",
   "execution_count": 325,
   "id": "7d3dcf6f",
   "metadata": {},
   "outputs": [
    {
     "data": {
      "text/plain": [
       "gender                         0\n",
       "race/ethnicity                 0\n",
       "parental level of education    0\n",
       "lunch                          0\n",
       "test preparation course        0\n",
       "math score                     1\n",
       "reading score                  2\n",
       "writing score                  0\n",
       "dtype: int64"
      ]
     },
     "execution_count": 325,
     "metadata": {},
     "output_type": "execute_result"
    }
   ],
   "source": [
    "df.isnull().sum()"
   ]
  },
  {
   "cell_type": "code",
   "execution_count": 326,
   "id": "4ce21b01",
   "metadata": {},
   "outputs": [
    {
     "data": {
      "text/plain": [
       "gender                         0\n",
       "race/ethnicity                 0\n",
       "parental level of education    0\n",
       "lunch                          0\n",
       "test preparation course        0\n",
       "math score                     1\n",
       "reading score                  2\n",
       "writing score                  0\n",
       "dtype: int64"
      ]
     },
     "execution_count": 326,
     "metadata": {},
     "output_type": "execute_result"
    }
   ],
   "source": [
    "df.isna().sum()"
   ]
  },
  {
   "cell_type": "code",
   "execution_count": 327,
   "id": "877fe415",
   "metadata": {},
   "outputs": [],
   "source": [
    "math_mean = df['math score'].mean()"
   ]
  },
  {
   "cell_type": "code",
   "execution_count": 328,
   "id": "da555bce",
   "metadata": {},
   "outputs": [],
   "source": [
    "df[\"math score\"].fillna(math_mean,inplace=True)"
   ]
  },
  {
   "cell_type": "code",
   "execution_count": 329,
   "id": "bef2a7a6",
   "metadata": {},
   "outputs": [],
   "source": [
    "read_mean = df['reading score'].mean()"
   ]
  },
  {
   "cell_type": "code",
   "execution_count": 330,
   "id": "7896e1a4",
   "metadata": {},
   "outputs": [],
   "source": [
    "df[\"reading score\"].fillna(read_mean,inplace=True)"
   ]
  },
  {
   "cell_type": "code",
   "execution_count": 331,
   "id": "9beb6952",
   "metadata": {},
   "outputs": [
    {
     "data": {
      "text/plain": [
       "gender                         0\n",
       "race/ethnicity                 0\n",
       "parental level of education    0\n",
       "lunch                          0\n",
       "test preparation course        0\n",
       "math score                     0\n",
       "reading score                  0\n",
       "writing score                  0\n",
       "dtype: int64"
      ]
     },
     "execution_count": 331,
     "metadata": {},
     "output_type": "execute_result"
    }
   ],
   "source": [
    "df.isna().sum()"
   ]
  },
  {
   "cell_type": "code",
   "execution_count": 332,
   "id": "3c46e769",
   "metadata": {},
   "outputs": [
    {
     "name": "stderr",
     "output_type": "stream",
     "text": [
      "C:\\Users\\L470_2\\AppData\\Local\\Programs\\Python\\Python39\\lib\\site-packages\\seaborn\\_decorators.py:36: FutureWarning: Pass the following variable as a keyword arg: x. From version 0.12, the only valid positional argument will be `data`, and passing other arguments without an explicit keyword will result in an error or misinterpretation.\n",
      "  warnings.warn(\n"
     ]
    },
    {
     "data": {
      "text/plain": [
       "<AxesSubplot:xlabel='math score'>"
      ]
     },
     "execution_count": 332,
     "metadata": {},
     "output_type": "execute_result"
    },
    {
     "data": {
      "image/png": "[encoded data removed]",
      "text/plain": [
       "<Figure size 432x288 with 1 Axes>"
      ]
     },
     "metadata": {
      "needs_background": "light"
     },
     "output_type": "display_data"
    }
   ],
   "source": [
    "sns.boxplot(df[\"math score\"])"
   ]
  },
  {
   "cell_type": "code",
   "execution_count": 333,
   "id": "e1a6e822",
   "metadata": {},
   "outputs": [],
   "source": [
    "Q1 = df['math score'].quantile(0.25)"
   ]
  },
  {
   "cell_type": "code",
   "execution_count": 334,
   "id": "b06e2f23",
   "metadata": {},
   "outputs": [],
   "source": [
    "Q2 = df['math score'].quantile(0.75)"
   ]
  },
  {
   "cell_type": "code",
   "execution_count": 335,
   "id": "0eae7721",
   "metadata": {},
   "outputs": [
    {
     "data": {
      "text/plain": [
       "(57.0, 77.0)"
      ]
     },
     "execution_count": 335,
     "metadata": {},
     "output_type": "execute_result"
    }
   ],
   "source": [
    "Q1,Q2"
   ]
  },
  {
   "cell_type": "code",
   "execution_count": 336,
   "id": "c80962a5",
   "metadata": {},
   "outputs": [],
   "source": [
    "IQR = Q2-Q1"
   ]
  },
  {
   "cell_type": "code",
   "execution_count": 337,
   "id": "c8101c97",
   "metadata": {},
   "outputs": [
    {
     "data": {
      "text/plain": [
       "20.0"
      ]
     },
     "execution_count": 337,
     "metadata": {},
     "output_type": "execute_result"
    }
   ],
   "source": [
    "IQR"
   ]
  },
  {
   "cell_type": "code",
   "execution_count": 338,
   "id": "f5a534a8",
   "metadata": {},
   "outputs": [],
   "source": [
    "lowerlimit = Q1 - 1.5 * IQR\n",
    "upperlimit = Q2 + 1.5*IQR"
   ]
  },
  {
   "cell_type": "code",
   "execution_count": 339,
   "id": "976fd178",
   "metadata": {},
   "outputs": [
    {
     "data": {
      "text/plain": [
       "(27.0, 107.0)"
      ]
     },
     "execution_count": 339,
     "metadata": {},
     "output_type": "execute_result"
    }
   ],
   "source": [
    "lowerlimit, upperlimit"
   ]
  },
  {
   "cell_type": "code",
   "execution_count": 340,
   "id": "17f41f6e",
   "metadata": {},
   "outputs": [],
   "source": [
    " df_without_outlier  = df[(df['math score']>lowerlimit)&(df['math score']<upperlimit)]"
   ]
  },
  {
   "cell_type": "code",
   "execution_count": 341,
   "id": "d20192d3",
   "metadata": {},
   "outputs": [
    {
     "data": {
      "text/html": [
       "<div>\n",
       "<style scoped>\n",
       "    .dataframe tbody tr th:only-of-type {\n",
       "        vertical-align: middle;\n",
       "    }\n",
       "\n",
       "    .dataframe tbody tr th {\n",
       "        vertical-align: top;\n",
       "    }\n",
       "\n",
       "    .dataframe thead th {\n",
       "        text-align: right;\n",
       "    }\n",
       "</style>\n",
       "<table border=\"1\" class=\"dataframe\">\n",
       "  <thead>\n",
       "    <tr style=\"text-align: right;\">\n",
       "      <th></th>\n",
       "      <th>gender</th>\n",
       "      <th>race/ethnicity</th>\n",
       "      <th>parental level of education</th>\n",
       "      <th>lunch</th>\n",
       "      <th>test preparation course</th>\n",
       "      <th>math score</th>\n",
       "      <th>reading score</th>\n",
       "      <th>writing score</th>\n",
       "    </tr>\n",
       "  </thead>\n",
       "  <tbody>\n",
       "    <tr>\n",
       "      <th>1</th>\n",
       "      <td>female</td>\n",
       "      <td>group C</td>\n",
       "      <td>some college</td>\n",
       "      <td>standard</td>\n",
       "      <td>completed</td>\n",
       "      <td>66.101101</td>\n",
       "      <td>69.160321</td>\n",
       "      <td>88</td>\n",
       "    </tr>\n",
       "    <tr>\n",
       "      <th>2</th>\n",
       "      <td>female</td>\n",
       "      <td>group B</td>\n",
       "      <td>master's degree</td>\n",
       "      <td>standard</td>\n",
       "      <td>none</td>\n",
       "      <td>90.000000</td>\n",
       "      <td>95.000000</td>\n",
       "      <td>93</td>\n",
       "    </tr>\n",
       "    <tr>\n",
       "      <th>3</th>\n",
       "      <td>male</td>\n",
       "      <td>group A</td>\n",
       "      <td>associate's degree</td>\n",
       "      <td>free/reduced</td>\n",
       "      <td>none</td>\n",
       "      <td>47.000000</td>\n",
       "      <td>69.160321</td>\n",
       "      <td>44</td>\n",
       "    </tr>\n",
       "    <tr>\n",
       "      <th>5</th>\n",
       "      <td>female</td>\n",
       "      <td>group B</td>\n",
       "      <td>associate's degree</td>\n",
       "      <td>standard</td>\n",
       "      <td>none</td>\n",
       "      <td>71.000000</td>\n",
       "      <td>83.000000</td>\n",
       "      <td>78</td>\n",
       "    </tr>\n",
       "    <tr>\n",
       "      <th>6</th>\n",
       "      <td>female</td>\n",
       "      <td>group B</td>\n",
       "      <td>some college</td>\n",
       "      <td>standard</td>\n",
       "      <td>completed</td>\n",
       "      <td>88.000000</td>\n",
       "      <td>95.000000</td>\n",
       "      <td>92</td>\n",
       "    </tr>\n",
       "    <tr>\n",
       "      <th>...</th>\n",
       "      <td>...</td>\n",
       "      <td>...</td>\n",
       "      <td>...</td>\n",
       "      <td>...</td>\n",
       "      <td>...</td>\n",
       "      <td>...</td>\n",
       "      <td>...</td>\n",
       "      <td>...</td>\n",
       "    </tr>\n",
       "    <tr>\n",
       "      <th>995</th>\n",
       "      <td>female</td>\n",
       "      <td>group E</td>\n",
       "      <td>master's degree</td>\n",
       "      <td>standard</td>\n",
       "      <td>completed</td>\n",
       "      <td>88.000000</td>\n",
       "      <td>99.000000</td>\n",
       "      <td>95</td>\n",
       "    </tr>\n",
       "    <tr>\n",
       "      <th>996</th>\n",
       "      <td>male</td>\n",
       "      <td>group C</td>\n",
       "      <td>high school</td>\n",
       "      <td>free/reduced</td>\n",
       "      <td>none</td>\n",
       "      <td>62.000000</td>\n",
       "      <td>55.000000</td>\n",
       "      <td>55</td>\n",
       "    </tr>\n",
       "    <tr>\n",
       "      <th>997</th>\n",
       "      <td>female</td>\n",
       "      <td>group C</td>\n",
       "      <td>high school</td>\n",
       "      <td>free/reduced</td>\n",
       "      <td>completed</td>\n",
       "      <td>59.000000</td>\n",
       "      <td>71.000000</td>\n",
       "      <td>65</td>\n",
       "    </tr>\n",
       "    <tr>\n",
       "      <th>998</th>\n",
       "      <td>female</td>\n",
       "      <td>group D</td>\n",
       "      <td>some college</td>\n",
       "      <td>standard</td>\n",
       "      <td>completed</td>\n",
       "      <td>68.000000</td>\n",
       "      <td>78.000000</td>\n",
       "      <td>77</td>\n",
       "    </tr>\n",
       "    <tr>\n",
       "      <th>999</th>\n",
       "      <td>female</td>\n",
       "      <td>group D</td>\n",
       "      <td>some college</td>\n",
       "      <td>free/reduced</td>\n",
       "      <td>none</td>\n",
       "      <td>77.000000</td>\n",
       "      <td>86.000000</td>\n",
       "      <td>86</td>\n",
       "    </tr>\n",
       "  </tbody>\n",
       "</table>\n",
       "<p>988 rows × 8 columns</p>\n",
       "</div>"
      ],
      "text/plain": [
       "     gender race/ethnicity parental level of education         lunch  \\\n",
       "1    female        group C                some college      standard   \n",
       "2    female        group B             master's degree      standard   \n",
       "3      male        group A          associate's degree  free/reduced   \n",
       "5    female        group B          associate's degree      standard   \n",
       "6    female        group B                some college      standard   \n",
       "..      ...            ...                         ...           ...   \n",
       "995  female        group E             master's degree      standard   \n",
       "996    male        group C                 high school  free/reduced   \n",
       "997  female        group C                 high school  free/reduced   \n",
       "998  female        group D                some college      standard   \n",
       "999  female        group D                some college  free/reduced   \n",
       "\n",
       "    test preparation course  math score  reading score  writing score  \n",
       "1                 completed   66.101101      69.160321             88  \n",
       "2                      none   90.000000      95.000000             93  \n",
       "3                      none   47.000000      69.160321             44  \n",
       "5                      none   71.000000      83.000000             78  \n",
       "6                 completed   88.000000      95.000000             92  \n",
       "..                      ...         ...            ...            ...  \n",
       "995               completed   88.000000      99.000000             95  \n",
       "996                    none   62.000000      55.000000             55  \n",
       "997               completed   59.000000      71.000000             65  \n",
       "998               completed   68.000000      78.000000             77  \n",
       "999                    none   77.000000      86.000000             86  \n",
       "\n",
       "[988 rows x 8 columns]"
      ]
     },
     "execution_count": 341,
     "metadata": {},
     "output_type": "execute_result"
    }
   ],
   "source": [
    "df_without_outlier"
   ]
  },
  {
   "cell_type": "code",
   "execution_count": 342,
   "id": "25954b6d",
   "metadata": {},
   "outputs": [
    {
     "name": "stderr",
     "output_type": "stream",
     "text": [
      "C:\\Users\\L470_2\\AppData\\Local\\Programs\\Python\\Python39\\lib\\site-packages\\seaborn\\_decorators.py:36: FutureWarning: Pass the following variable as a keyword arg: x. From version 0.12, the only valid positional argument will be `data`, and passing other arguments without an explicit keyword will result in an error or misinterpretation.\n",
      "  warnings.warn(\n"
     ]
    },
    {
     "data": {
      "text/plain": [
       "<AxesSubplot:xlabel='math score'>"
      ]
     },
     "execution_count": 342,
     "metadata": {},
     "output_type": "execute_result"
    },
    {
     "data": {
      "image/png": "[encoded data removed]",
      "text/plain": [
       "<Figure size 432x288 with 1 Axes>"
      ]
     },
     "metadata": {
      "needs_background": "light"
     },
     "output_type": "display_data"
    }
   ],
   "source": [
    "sns.boxplot(df_without_outlier[\"math score\"])"
   ]
  },
  {
   "cell_type": "code",
   "execution_count": 343,
   "id": "a676bbb1",
   "metadata": {},
   "outputs": [
    {
     "name": "stderr",
     "output_type": "stream",
     "text": [
      "C:\\Users\\L470_2\\AppData\\Local\\Programs\\Python\\Python39\\lib\\site-packages\\seaborn\\_decorators.py:36: FutureWarning: Pass the following variable as a keyword arg: x. From version 0.12, the only valid positional argument will be `data`, and passing other arguments without an explicit keyword will result in an error or misinterpretation.\n",
      "  warnings.warn(\n"
     ]
    },
    {
     "data": {
      "text/plain": [
       "<AxesSubplot:xlabel='reading score'>"
      ]
     },
     "execution_count": 343,
     "metadata": {},
     "output_type": "execute_result"
    },
    {
     "data": {
      "image/png": "[encoded data removed]",
      "text/plain": [
       "<Figure size 432x288 with 1 Axes>"
      ]
     },
     "metadata": {
      "needs_background": "light"
     },
     "output_type": "display_data"
    }
   ],
   "source": [
    "sns.boxplot(df_without_outlier[\"reading score\"])"
   ]
  },
  {
   "cell_type": "code",
   "execution_count": 344,
   "id": "de25e746",
   "metadata": {},
   "outputs": [
    {
     "data": {
      "text/plain": [
       "20.0"
      ]
     },
     "execution_count": 344,
     "metadata": {},
     "output_type": "execute_result"
    }
   ],
   "source": [
    "QR1 = df_without_outlier[\"reading score\"].quantile(0.25)\n",
    "QR2 = df_without_outlier[\"reading score\"].quantile(0.75)\n",
    "\n",
    "IQR = QR2 - QR1\n",
    "IQR"
   ]
  },
  {
   "cell_type": "code",
   "execution_count": 345,
   "id": "497a43ff",
   "metadata": {},
   "outputs": [],
   "source": [
    "upper = QR1 - 1.5*IQR\n",
    "lower = QR2 + 1.5*IQR"
   ]
  },
  {
   "cell_type": "code",
   "execution_count": 346,
   "id": "6a135f2a",
   "metadata": {},
   "outputs": [
    {
     "data": {
      "text/plain": [
       "(30.0, 110.0)"
      ]
     },
     "execution_count": 346,
     "metadata": {},
     "output_type": "execute_result"
    }
   ],
   "source": [
    "upper,lower"
   ]
  },
  {
   "cell_type": "code",
   "execution_count": 347,
   "id": "7e0d39a4",
   "metadata": {},
   "outputs": [],
   "source": [
    "dfx = df_without_outlier[(df_without_outlier[\"reading score\"]<lower)|(df_without_outlier['reading score']>upper)]"
   ]
  },
  {
   "cell_type": "code",
   "execution_count": 348,
   "id": "ce8f9fde",
   "metadata": {},
   "outputs": [
    {
     "data": {
      "text/html": [
       "<div>\n",
       "<style scoped>\n",
       "    .dataframe tbody tr th:only-of-type {\n",
       "        vertical-align: middle;\n",
       "    }\n",
       "\n",
       "    .dataframe tbody tr th {\n",
       "        vertical-align: top;\n",
       "    }\n",
       "\n",
       "    .dataframe thead th {\n",
       "        text-align: right;\n",
       "    }\n",
       "</style>\n",
       "<table border=\"1\" class=\"dataframe\">\n",
       "  <thead>\n",
       "    <tr style=\"text-align: right;\">\n",
       "      <th></th>\n",
       "      <th>gender</th>\n",
       "      <th>race/ethnicity</th>\n",
       "      <th>parental level of education</th>\n",
       "      <th>lunch</th>\n",
       "      <th>test preparation course</th>\n",
       "      <th>math score</th>\n",
       "      <th>reading score</th>\n",
       "      <th>writing score</th>\n",
       "    </tr>\n",
       "  </thead>\n",
       "  <tbody>\n",
       "    <tr>\n",
       "      <th>1</th>\n",
       "      <td>female</td>\n",
       "      <td>group C</td>\n",
       "      <td>some college</td>\n",
       "      <td>standard</td>\n",
       "      <td>completed</td>\n",
       "      <td>66.101101</td>\n",
       "      <td>69.160321</td>\n",
       "      <td>88</td>\n",
       "    </tr>\n",
       "    <tr>\n",
       "      <th>2</th>\n",
       "      <td>female</td>\n",
       "      <td>group B</td>\n",
       "      <td>master's degree</td>\n",
       "      <td>standard</td>\n",
       "      <td>none</td>\n",
       "      <td>90.000000</td>\n",
       "      <td>95.000000</td>\n",
       "      <td>93</td>\n",
       "    </tr>\n",
       "    <tr>\n",
       "      <th>3</th>\n",
       "      <td>male</td>\n",
       "      <td>group A</td>\n",
       "      <td>associate's degree</td>\n",
       "      <td>free/reduced</td>\n",
       "      <td>none</td>\n",
       "      <td>47.000000</td>\n",
       "      <td>69.160321</td>\n",
       "      <td>44</td>\n",
       "    </tr>\n",
       "    <tr>\n",
       "      <th>5</th>\n",
       "      <td>female</td>\n",
       "      <td>group B</td>\n",
       "      <td>associate's degree</td>\n",
       "      <td>standard</td>\n",
       "      <td>none</td>\n",
       "      <td>71.000000</td>\n",
       "      <td>83.000000</td>\n",
       "      <td>78</td>\n",
       "    </tr>\n",
       "    <tr>\n",
       "      <th>6</th>\n",
       "      <td>female</td>\n",
       "      <td>group B</td>\n",
       "      <td>some college</td>\n",
       "      <td>standard</td>\n",
       "      <td>completed</td>\n",
       "      <td>88.000000</td>\n",
       "      <td>95.000000</td>\n",
       "      <td>92</td>\n",
       "    </tr>\n",
       "    <tr>\n",
       "      <th>...</th>\n",
       "      <td>...</td>\n",
       "      <td>...</td>\n",
       "      <td>...</td>\n",
       "      <td>...</td>\n",
       "      <td>...</td>\n",
       "      <td>...</td>\n",
       "      <td>...</td>\n",
       "      <td>...</td>\n",
       "    </tr>\n",
       "    <tr>\n",
       "      <th>995</th>\n",
       "      <td>female</td>\n",
       "      <td>group E</td>\n",
       "      <td>master's degree</td>\n",
       "      <td>standard</td>\n",
       "      <td>completed</td>\n",
       "      <td>88.000000</td>\n",
       "      <td>99.000000</td>\n",
       "      <td>95</td>\n",
       "    </tr>\n",
       "    <tr>\n",
       "      <th>996</th>\n",
       "      <td>male</td>\n",
       "      <td>group C</td>\n",
       "      <td>high school</td>\n",
       "      <td>free/reduced</td>\n",
       "      <td>none</td>\n",
       "      <td>62.000000</td>\n",
       "      <td>55.000000</td>\n",
       "      <td>55</td>\n",
       "    </tr>\n",
       "    <tr>\n",
       "      <th>997</th>\n",
       "      <td>female</td>\n",
       "      <td>group C</td>\n",
       "      <td>high school</td>\n",
       "      <td>free/reduced</td>\n",
       "      <td>completed</td>\n",
       "      <td>59.000000</td>\n",
       "      <td>71.000000</td>\n",
       "      <td>65</td>\n",
       "    </tr>\n",
       "    <tr>\n",
       "      <th>998</th>\n",
       "      <td>female</td>\n",
       "      <td>group D</td>\n",
       "      <td>some college</td>\n",
       "      <td>standard</td>\n",
       "      <td>completed</td>\n",
       "      <td>68.000000</td>\n",
       "      <td>78.000000</td>\n",
       "      <td>77</td>\n",
       "    </tr>\n",
       "    <tr>\n",
       "      <th>999</th>\n",
       "      <td>female</td>\n",
       "      <td>group D</td>\n",
       "      <td>some college</td>\n",
       "      <td>free/reduced</td>\n",
       "      <td>none</td>\n",
       "      <td>77.000000</td>\n",
       "      <td>86.000000</td>\n",
       "      <td>86</td>\n",
       "    </tr>\n",
       "  </tbody>\n",
       "</table>\n",
       "<p>988 rows × 8 columns</p>\n",
       "</div>"
      ],
      "text/plain": [
       "     gender race/ethnicity parental level of education         lunch  \\\n",
       "1    female        group C                some college      standard   \n",
       "2    female        group B             master's degree      standard   \n",
       "3      male        group A          associate's degree  free/reduced   \n",
       "5    female        group B          associate's degree      standard   \n",
       "6    female        group B                some college      standard   \n",
       "..      ...            ...                         ...           ...   \n",
       "995  female        group E             master's degree      standard   \n",
       "996    male        group C                 high school  free/reduced   \n",
       "997  female        group C                 high school  free/reduced   \n",
       "998  female        group D                some college      standard   \n",
       "999  female        group D                some college  free/reduced   \n",
       "\n",
       "    test preparation course  math score  reading score  writing score  \n",
       "1                 completed   66.101101      69.160321             88  \n",
       "2                      none   90.000000      95.000000             93  \n",
       "3                      none   47.000000      69.160321             44  \n",
       "5                      none   71.000000      83.000000             78  \n",
       "6                 completed   88.000000      95.000000             92  \n",
       "..                      ...         ...            ...            ...  \n",
       "995               completed   88.000000      99.000000             95  \n",
       "996                    none   62.000000      55.000000             55  \n",
       "997               completed   59.000000      71.000000             65  \n",
       "998               completed   68.000000      78.000000             77  \n",
       "999                    none   77.000000      86.000000             86  \n",
       "\n",
       "[988 rows x 8 columns]"
      ]
     },
     "execution_count": 348,
     "metadata": {},
     "output_type": "execute_result"
    }
   ],
   "source": [
    "dfx"
   ]
  },
  {
   "cell_type": "code",
   "execution_count": 349,
   "id": "e36bd3b8",
   "metadata": {},
   "outputs": [
    {
     "name": "stderr",
     "output_type": "stream",
     "text": [
      "C:\\Users\\L470_2\\AppData\\Local\\Programs\\Python\\Python39\\lib\\site-packages\\seaborn\\_decorators.py:36: FutureWarning: Pass the following variable as a keyword arg: x. From version 0.12, the only valid positional argument will be `data`, and passing other arguments without an explicit keyword will result in an error or misinterpretation.\n",
      "  warnings.warn(\n"
     ]
    },
    {
     "data": {
      "text/plain": [
       "<AxesSubplot:xlabel='reading score'>"
      ]
     },
     "execution_count": 349,
     "metadata": {},
     "output_type": "execute_result"
    },
    {
     "data": {
      "image/png": "[encoded data removed]",
      "text/plain": [
       "<Figure size 432x288 with 1 Axes>"
      ]
     },
     "metadata": {
      "needs_background": "light"
     },
     "output_type": "display_data"
    }
   ],
   "source": [
    "sns.boxplot(dfx['reading score'])"
   ]
  },
  {
   "cell_type": "code",
   "execution_count": 350,
   "id": "3aad39f7",
   "metadata": {},
   "outputs": [
    {
     "data": {
      "text/html": [
       "<div>\n",
       "<style scoped>\n",
       "    .dataframe tbody tr th:only-of-type {\n",
       "        vertical-align: middle;\n",
       "    }\n",
       "\n",
       "    .dataframe tbody tr th {\n",
       "        vertical-align: top;\n",
       "    }\n",
       "\n",
       "    .dataframe thead th {\n",
       "        text-align: right;\n",
       "    }\n",
       "</style>\n",
       "<table border=\"1\" class=\"dataframe\">\n",
       "  <thead>\n",
       "    <tr style=\"text-align: right;\">\n",
       "      <th></th>\n",
       "      <th>math score</th>\n",
       "      <th>reading score</th>\n",
       "      <th>writing score</th>\n",
       "    </tr>\n",
       "  </thead>\n",
       "  <tbody>\n",
       "    <tr>\n",
       "      <th>count</th>\n",
       "      <td>988.000000</td>\n",
       "      <td>988.000000</td>\n",
       "      <td>988.000000</td>\n",
       "    </tr>\n",
       "    <tr>\n",
       "      <th>mean</th>\n",
       "      <td>66.542612</td>\n",
       "      <td>69.513482</td>\n",
       "      <td>68.431174</td>\n",
       "    </tr>\n",
       "    <tr>\n",
       "      <th>std</th>\n",
       "      <td>14.476236</td>\n",
       "      <td>14.185290</td>\n",
       "      <td>14.758314</td>\n",
       "    </tr>\n",
       "    <tr>\n",
       "      <th>min</th>\n",
       "      <td>28.000000</td>\n",
       "      <td>23.000000</td>\n",
       "      <td>15.000000</td>\n",
       "    </tr>\n",
       "    <tr>\n",
       "      <th>25%</th>\n",
       "      <td>57.000000</td>\n",
       "      <td>60.000000</td>\n",
       "      <td>58.000000</td>\n",
       "    </tr>\n",
       "    <tr>\n",
       "      <th>50%</th>\n",
       "      <td>66.000000</td>\n",
       "      <td>70.000000</td>\n",
       "      <td>69.000000</td>\n",
       "    </tr>\n",
       "    <tr>\n",
       "      <th>75%</th>\n",
       "      <td>77.000000</td>\n",
       "      <td>80.000000</td>\n",
       "      <td>79.000000</td>\n",
       "    </tr>\n",
       "    <tr>\n",
       "      <th>max</th>\n",
       "      <td>100.000000</td>\n",
       "      <td>100.000000</td>\n",
       "      <td>100.000000</td>\n",
       "    </tr>\n",
       "  </tbody>\n",
       "</table>\n",
       "</div>"
      ],
      "text/plain": [
       "       math score  reading score  writing score\n",
       "count  988.000000     988.000000     988.000000\n",
       "mean    66.542612      69.513482      68.431174\n",
       "std     14.476236      14.185290      14.758314\n",
       "min     28.000000      23.000000      15.000000\n",
       "25%     57.000000      60.000000      58.000000\n",
       "50%     66.000000      70.000000      69.000000\n",
       "75%     77.000000      80.000000      79.000000\n",
       "max    100.000000     100.000000     100.000000"
      ]
     },
     "execution_count": 350,
     "metadata": {},
     "output_type": "execute_result"
    }
   ],
   "source": [
    "dfx.describe()"
   ]
  },
  {
   "cell_type": "code",
   "execution_count": 351,
   "id": "96ec86b2",
   "metadata": {},
   "outputs": [
    {
     "name": "stderr",
     "output_type": "stream",
     "text": [
      "C:\\Users\\L470_2\\AppData\\Local\\Temp\\ipykernel_2732\\1665899112.py:1: FutureWarning: Dropping of nuisance columns in DataFrame reductions (with 'numeric_only=None') is deprecated; in a future version this will raise TypeError.  Select only valid columns before calling the reduction.\n",
      "  df.skew()\n"
     ]
    },
    {
     "data": {
      "text/plain": [
       "math score      -0.055681\n",
       "reading score   -0.260723\n",
       "writing score   -0.289444\n",
       "dtype: float64"
      ]
     },
     "execution_count": 351,
     "metadata": {},
     "output_type": "execute_result"
    }
   ],
   "source": [
    "df.skew()"
   ]
  },
  {
   "cell_type": "code",
   "execution_count": 352,
   "id": "fcfe29af",
   "metadata": {},
   "outputs": [
    {
     "name": "stderr",
     "output_type": "stream",
     "text": [
      "C:\\Users\\L470_2\\AppData\\Local\\Temp\\ipykernel_2732\\3390915376.py:1: FutureWarning: Dropping of nuisance columns in DataFrame reductions (with 'numeric_only=None') is deprecated; in a future version this will raise TypeError.  Select only valid columns before calling the reduction.\n",
      "  df.std()\n"
     ]
    },
    {
     "data": {
      "text/plain": [
       "math score       15.705077\n",
       "reading score    14.580224\n",
       "writing score    15.195657\n",
       "dtype: float64"
      ]
     },
     "execution_count": 352,
     "metadata": {},
     "output_type": "execute_result"
    }
   ],
   "source": [
    "df.std()"
   ]
  },
  {
   "cell_type": "code",
   "execution_count": 353,
   "id": "8d09ccd6",
   "metadata": {},
   "outputs": [
    {
     "data": {
      "text/plain": [
       "array([[<AxesSubplot:title={'center':'math score'}>,\n",
       "        <AxesSubplot:title={'center':'reading score'}>],\n",
       "       [<AxesSubplot:title={'center':'writing score'}>, <AxesSubplot:>]],\n",
       "      dtype=object)"
      ]
     },
     "execution_count": 353,
     "metadata": {},
     "output_type": "execute_result"
    },
    {
     "data": {
      "image/png": "[encoded data removed]",
      "text/plain": [
       "<Figure size 432x288 with 4 Axes>"
      ]
     },
     "metadata": {
      "needs_background": "light"
     },
     "output_type": "display_data"
    }
   ],
   "source": [
    "dfx.hist()"
   ]
  },
  {
   "cell_type": "code",
   "execution_count": 354,
   "id": "f64275a8",
   "metadata": {},
   "outputs": [
    {
     "data": {
      "text/plain": [
       "<AxesSubplot:>"
      ]
     },
     "execution_count": 354,
     "metadata": {},
     "output_type": "execute_result"
    },
    {
     "data": {
      "image/png": "[encoded data removed]",
      "text/plain": [
       "<Figure size 432x288 with 1 Axes>"
      ]
     },
     "metadata": {
      "needs_background": "light"
     },
     "output_type": "display_data"
    }
   ],
   "source": [
    "dfx.boxplot()"
   ]
  },
  {
   "cell_type": "code",
   "execution_count": 355,
   "id": "1466ea3a",
   "metadata": {},
   "outputs": [
    {
     "data": {
      "text/plain": [
       "<AxesSubplot:xlabel='reading score reciprocal', ylabel='Density'>"
      ]
     },
     "execution_count": 355,
     "metadata": {},
     "output_type": "execute_result"
    },
    {
     "data": {
      "image/png": "[encoded data removed]",
      "text/plain": [
       "<Figure size 432x288 with 1 Axes>"
      ]
     },
     "metadata": {
      "needs_background": "light"
     },
     "output_type": "display_data"
    }
   ],
   "source": [
    "dfx[\"reading score reciprocal\"] = 1/dfx['reading score']\n",
    "sns.kdeplot(dfx['reading score reciprocal'])"
   ]
  },
  {
   "cell_type": "code",
   "execution_count": 358,
   "id": "5f5c7c4d",
   "metadata": {},
   "outputs": [
    {
     "data": {
      "text/plain": [
       "<AxesSubplot:xlabel='reading score', ylabel='Density'>"
      ]
     },
     "execution_count": 358,
     "metadata": {},
     "output_type": "execute_result"
    },
    {
     "data": {
      "image/png": "[encoded data removed]",
      "text/plain": [
       "<Figure size 432x288 with 1 Axes>"
      ]
     },
     "metadata": {
      "needs_background": "light"
     },
     "output_type": "display_data"
    }
   ],
   "source": [
    "sns.kdeplot(dfx['reading score'])"
   ]
  },
  {
   "cell_type": "code",
   "execution_count": 356,
   "id": "08af1a39",
   "metadata": {},
   "outputs": [
    {
     "data": {
      "text/plain": [
       "((array([-3.19410727e+00, -2.92862832e+00, -2.78046228e+00, -2.67595340e+00,\n",
       "         -2.59441353e+00, -2.52716372e+00, -2.46970815e+00, -2.41940604e+00,\n",
       "         -2.37456967e+00, -2.33405267e+00, -2.29703965e+00, -2.26292923e+00,\n",
       "         -2.23126477e+00, -2.20169104e+00, -2.17392612e+00, -2.14774237e+00,\n",
       "         -2.12295322e+00, -2.09940385e+00, -2.07696424e+00, -2.05552417e+00,\n",
       "         -2.03498932e+00, -2.01527836e+00, -1.99632062e+00, -1.97805432e+00,\n",
       "         -1.96042511e+00, -1.94338493e+00, -1.92689103e+00, -1.91090528e+00,\n",
       "         -1.89539343e+00, -1.88032467e+00, -1.86567116e+00, -1.85140764e+00,\n",
       "         -1.83751113e+00, -1.82396067e+00, -1.81073706e+00, -1.79782272e+00,\n",
       "         -1.78520143e+00, -1.77285827e+00, -1.76077946e+00, -1.74895220e+00,\n",
       "         -1.73736465e+00, -1.72600580e+00, -1.71486537e+00, -1.70393379e+00,\n",
       "         -1.69320212e+00, -1.68266198e+00, -1.67230553e+00, -1.66212540e+00,\n",
       "         -1.65211467e+00, -1.64226681e+00, -1.63257570e+00, -1.62303553e+00,\n",
       "         -1.61364084e+00, -1.60438644e+00, -1.59526745e+00, -1.58627922e+00,\n",
       "         -1.57741734e+00, -1.56867763e+00, -1.56005613e+00, -1.55154906e+00,\n",
       "         -1.54315281e+00, -1.53486396e+00, -1.52667924e+00, -1.51859553e+00,\n",
       "         -1.51060986e+00, -1.50271937e+00, -1.49492135e+00, -1.48721319e+00,\n",
       "         -1.47959240e+00, -1.47205658e+00, -1.46460344e+00, -1.45723078e+00,\n",
       "         -1.44993648e+00, -1.44271853e+00, -1.43557498e+00, -1.42850393e+00,\n",
       "         -1.42150360e+00, -1.41457224e+00, -1.40770819e+00, -1.40090983e+00,\n",
       "         -1.39417560e+00, -1.38750402e+00, -1.38089362e+00, -1.37434302e+00,\n",
       "         -1.36785088e+00, -1.36141587e+00, -1.35503675e+00, -1.34871231e+00,\n",
       "         -1.34244135e+00, -1.33622275e+00, -1.33005539e+00, -1.32393821e+00,\n",
       "         -1.31787018e+00, -1.31185028e+00, -1.30587756e+00, -1.29995106e+00,\n",
       "         -1.29406987e+00, -1.28823311e+00, -1.28243990e+00, -1.27668942e+00,\n",
       "         -1.27098085e+00, -1.26531340e+00, -1.25968630e+00, -1.25409881e+00,\n",
       "         -1.24855020e+00, -1.24303976e+00, -1.23756681e+00, -1.23213069e+00,\n",
       "         -1.22673073e+00, -1.22136631e+00, -1.21603681e+00, -1.21074162e+00,\n",
       "         -1.20548017e+00, -1.20025188e+00, -1.19505619e+00, -1.18989256e+00,\n",
       "         -1.18476047e+00, -1.17965940e+00, -1.17458883e+00, -1.16954829e+00,\n",
       "         -1.16453729e+00, -1.15955536e+00, -1.15460205e+00, -1.14967690e+00,\n",
       "         -1.14477948e+00, -1.13990937e+00, -1.13506615e+00, -1.13024940e+00,\n",
       "         -1.12545874e+00, -1.12069377e+00, -1.11595411e+00, -1.11123938e+00,\n",
       "         -1.10654923e+00, -1.10188329e+00, -1.09724123e+00, -1.09262268e+00,\n",
       "         -1.08802733e+00, -1.08345483e+00, -1.07890488e+00, -1.07437716e+00,\n",
       "         -1.06987135e+00, -1.06538716e+00, -1.06092429e+00, -1.05648246e+00,\n",
       "         -1.05206137e+00, -1.04766075e+00, -1.04328032e+00, -1.03891982e+00,\n",
       "         -1.03457899e+00, -1.03025756e+00, -1.02595529e+00, -1.02167193e+00,\n",
       "         -1.01740722e+00, -1.01316095e+00, -1.00893286e+00, -1.00472273e+00,\n",
       "         -1.00053034e+00, -9.96355459e-01, -9.92197872e-01, -9.88057366e-01,\n",
       "         -9.83933729e-01, -9.79826757e-01, -9.75736245e-01, -9.71661995e-01,\n",
       "         -9.67603810e-01, -9.63561498e-01, -9.59534870e-01, -9.55523740e-01,\n",
       "         -9.51527925e-01, -9.47547245e-01, -9.43581524e-01, -9.39630587e-01,\n",
       "         -9.35694263e-01, -9.31772384e-01, -9.27864785e-01, -9.23971303e-01,\n",
       "         -9.20091777e-01, -9.16226050e-01, -9.12373967e-01, -9.08535375e-01,\n",
       "         -9.04710123e-01, -9.00898064e-01, -8.97099052e-01, -8.93312943e-01,\n",
       "         -8.89539597e-01, -8.85778873e-01, -8.82030636e-01, -8.78294750e-01,\n",
       "         -8.74571082e-01, -8.70859501e-01, -8.67159878e-01, -8.63472087e-01,\n",
       "         -8.59796001e-01, -8.56131498e-01, -8.52478455e-01, -8.48836754e-01,\n",
       "         -8.45206274e-01, -8.41586901e-01, -8.37978520e-01, -8.34381016e-01,\n",
       "         -8.30794278e-01, -8.27218197e-01, -8.23652663e-01, -8.20097570e-01,\n",
       "         -8.16552812e-01, -8.13018284e-01, -8.09493884e-01, -8.05979511e-01,\n",
       "         -8.02475064e-01, -7.98980445e-01, -7.95495556e-01, -7.92020302e-01,\n",
       "         -7.88554586e-01, -7.85098317e-01, -7.81651400e-01, -7.78213746e-01,\n",
       "         -7.74785264e-01, -7.71365865e-01, -7.67955461e-01, -7.64553966e-01,\n",
       "         -7.61161293e-01, -7.57777360e-01, -7.54402082e-01, -7.51035376e-01,\n",
       "         -7.47677162e-01, -7.44327358e-01, -7.40985887e-01, -7.37652668e-01,\n",
       "         -7.34327624e-01, -7.31010680e-01, -7.27701759e-01, -7.24400786e-01,\n",
       "         -7.21107688e-01, -7.17822391e-01, -7.14544824e-01, -7.11274915e-01,\n",
       "         -7.08012593e-01, -7.04757790e-01, -7.01510435e-01, -6.98270461e-01,\n",
       "         -6.95037800e-01, -6.91812387e-01, -6.88594154e-01, -6.85383038e-01,\n",
       "         -6.82178973e-01, -6.78981897e-01, -6.75791745e-01, -6.72608456e-01,\n",
       "         -6.69431969e-01, -6.66262222e-01, -6.63099154e-01, -6.59942708e-01,\n",
       "         -6.56792822e-01, -6.53649440e-01, -6.50512503e-01, -6.47381955e-01,\n",
       "         -6.44257738e-01, -6.41139797e-01, -6.38028077e-01, -6.34922522e-01,\n",
       "         -6.31823078e-01, -6.28729693e-01, -6.25642312e-01, -6.22560883e-01,\n",
       "         -6.19485354e-01, -6.16415674e-01, -6.13351791e-01, -6.10293655e-01,\n",
       "         -6.07241217e-01, -6.04194425e-01, -6.01153232e-01, -5.98117589e-01,\n",
       "         -5.95087448e-01, -5.92062760e-01, -5.89043480e-01, -5.86029560e-01,\n",
       "         -5.83020954e-01, -5.80017616e-01, -5.77019501e-01, -5.74026563e-01,\n",
       "         -5.71038759e-01, -5.68056043e-01, -5.65078373e-01, -5.62105704e-01,\n",
       "         -5.59137995e-01, -5.56175202e-01, -5.53217283e-01, -5.50264196e-01,\n",
       "         -5.47315901e-01, -5.44372355e-01, -5.41433518e-01, -5.38499350e-01,\n",
       "         -5.35569811e-01, -5.32644862e-01, -5.29724462e-01, -5.26808573e-01,\n",
       "         -5.23897156e-01, -5.20990173e-01, -5.18087586e-01, -5.15189358e-01,\n",
       "         -5.12295450e-01, -5.09405827e-01, -5.06520451e-01, -5.03639286e-01,\n",
       "         -5.00762295e-01, -4.97889443e-01, -4.95020695e-01, -4.92156015e-01,\n",
       "         -4.89295367e-01, -4.86438719e-01, -4.83586034e-01, -4.80737280e-01,\n",
       "         -4.77892421e-01, -4.75051425e-01, -4.72214258e-01, -4.69380887e-01,\n",
       "         -4.66551279e-01, -4.63725402e-01, -4.60903223e-01, -4.58084710e-01,\n",
       "         -4.55269831e-01, -4.52458556e-01, -4.49650851e-01, -4.46846687e-01,\n",
       "         -4.44046032e-01, -4.41248856e-01, -4.38455128e-01, -4.35664818e-01,\n",
       "         -4.32877896e-01, -4.30094332e-01, -4.27314096e-01, -4.24537160e-01,\n",
       "         -4.21763493e-01, -4.18993068e-01, -4.16225854e-01, -4.13461824e-01,\n",
       "         -4.10700950e-01, -4.07943202e-01, -4.05188553e-01, -4.02436976e-01,\n",
       "         -3.99688442e-01, -3.96942924e-01, -3.94200395e-01, -3.91460828e-01,\n",
       "         -3.88724195e-01, -3.85990471e-01, -3.83259629e-01, -3.80531641e-01,\n",
       "         -3.77806483e-01, -3.75084127e-01, -3.72364548e-01, -3.69647721e-01,\n",
       "         -3.66933619e-01, -3.64222218e-01, -3.61513491e-01, -3.58807415e-01,\n",
       "         -3.56103963e-01, -3.53403112e-01, -3.50704836e-01, -3.48009111e-01,\n",
       "         -3.45315913e-01, -3.42625217e-01, -3.39936999e-01, -3.37251236e-01,\n",
       "         -3.34567903e-01, -3.31886977e-01, -3.29208434e-01, -3.26532251e-01,\n",
       "         -3.23858405e-01, -3.21186872e-01, -3.18517629e-01, -3.15850654e-01,\n",
       "         -3.13185924e-01, -3.10523415e-01, -3.07863106e-01, -3.05204975e-01,\n",
       "         -3.02548997e-01, -2.99895153e-01, -2.97243419e-01, -2.94593773e-01,\n",
       "         -2.91946194e-01, -2.89300660e-01, -2.86657149e-01, -2.84015640e-01,\n",
       "         -2.81376111e-01, -2.78738540e-01, -2.76102908e-01, -2.73469192e-01,\n",
       "         -2.70837372e-01, -2.68207426e-01, -2.65579335e-01, -2.62953076e-01,\n",
       "         -2.60328629e-01, -2.57705975e-01, -2.55085092e-01, -2.52465959e-01,\n",
       "         -2.49848558e-01, -2.47232867e-01, -2.44618867e-01, -2.42006537e-01,\n",
       "         -2.39395857e-01, -2.36786808e-01, -2.34179370e-01, -2.31573523e-01,\n",
       "         -2.28969248e-01, -2.26366524e-01, -2.23765334e-01, -2.21165656e-01,\n",
       "         -2.18567472e-01, -2.15970763e-01, -2.13375509e-01, -2.10781692e-01,\n",
       "         -2.08189292e-01, -2.05598290e-01, -2.03008668e-01, -2.00420406e-01,\n",
       "         -1.97833487e-01, -1.95247891e-01, -1.92663599e-01, -1.90080594e-01,\n",
       "         -1.87498856e-01, -1.84918367e-01, -1.82339109e-01, -1.79761063e-01,\n",
       "         -1.77184212e-01, -1.74608536e-01, -1.72034019e-01, -1.69460641e-01,\n",
       "         -1.66888385e-01, -1.64317233e-01, -1.61747166e-01, -1.59178168e-01,\n",
       "         -1.56610219e-01, -1.54043303e-01, -1.51477402e-01, -1.48912497e-01,\n",
       "         -1.46348572e-01, -1.43785608e-01, -1.41223589e-01, -1.38662496e-01,\n",
       "         -1.36102312e-01, -1.33543021e-01, -1.30984603e-01, -1.28427043e-01,\n",
       "         -1.25870322e-01, -1.23314424e-01, -1.20759331e-01, -1.18205027e-01,\n",
       "         -1.15651493e-01, -1.13098713e-01, -1.10546671e-01, -1.07995347e-01,\n",
       "         -1.05444727e-01, -1.02894793e-01, -1.00345527e-01, -9.77969132e-02,\n",
       "         -9.52489345e-02, -9.27015741e-02, -9.01548151e-02, -8.76086407e-02,\n",
       "         -8.50630342e-02, -8.25179787e-02, -7.99734576e-02, -7.74294542e-02,\n",
       "         -7.48859519e-02, -7.23429339e-02, -6.98003836e-02, -6.72582846e-02,\n",
       "         -6.47166200e-02, -6.21753735e-02, -5.96345285e-02, -5.70940683e-02,\n",
       "         -5.45539767e-02, -5.20142369e-02, -4.94748326e-02, -4.69357473e-02,\n",
       "         -4.43969646e-02, -4.18584680e-02, -3.93202411e-02, -3.67822675e-02,\n",
       "         -3.42445308e-02, -3.17070146e-02, -2.91697026e-02, -2.66325784e-02,\n",
       "         -2.40956255e-02, -2.15588278e-02, -1.90221688e-02, -1.64856321e-02,\n",
       "         -1.39492016e-02, -1.14128607e-02, -8.87659334e-03, -6.34038303e-03,\n",
       "         -3.80421351e-03, -1.26806845e-03,  1.26806845e-03,  3.80421351e-03,\n",
       "          6.34038303e-03,  8.87659334e-03,  1.14128607e-02,  1.39492016e-02,\n",
       "          1.64856321e-02,  1.90221688e-02,  2.15588278e-02,  2.40956255e-02,\n",
       "          2.66325784e-02,  2.91697026e-02,  3.17070146e-02,  3.42445308e-02,\n",
       "          3.67822675e-02,  3.93202411e-02,  4.18584680e-02,  4.43969646e-02,\n",
       "          4.69357473e-02,  4.94748326e-02,  5.20142369e-02,  5.45539767e-02,\n",
       "          5.70940683e-02,  5.96345285e-02,  6.21753735e-02,  6.47166200e-02,\n",
       "          6.72582846e-02,  6.98003836e-02,  7.23429339e-02,  7.48859519e-02,\n",
       "          7.74294542e-02,  7.99734576e-02,  8.25179787e-02,  8.50630342e-02,\n",
       "          8.76086407e-02,  9.01548151e-02,  9.27015741e-02,  9.52489345e-02,\n",
       "          9.77969132e-02,  1.00345527e-01,  1.02894793e-01,  1.05444727e-01,\n",
       "          1.07995347e-01,  1.10546671e-01,  1.13098713e-01,  1.15651493e-01,\n",
       "          1.18205027e-01,  1.20759331e-01,  1.23314424e-01,  1.25870322e-01,\n",
       "          1.28427043e-01,  1.30984603e-01,  1.33543021e-01,  1.36102312e-01,\n",
       "          1.38662496e-01,  1.41223589e-01,  1.43785608e-01,  1.46348572e-01,\n",
       "          1.48912497e-01,  1.51477402e-01,  1.54043303e-01,  1.56610219e-01,\n",
       "          1.59178168e-01,  1.61747166e-01,  1.64317233e-01,  1.66888385e-01,\n",
       "          1.69460641e-01,  1.72034019e-01,  1.74608536e-01,  1.77184212e-01,\n",
       "          1.79761063e-01,  1.82339109e-01,  1.84918367e-01,  1.87498856e-01,\n",
       "          1.90080594e-01,  1.92663599e-01,  1.95247891e-01,  1.97833487e-01,\n",
       "          2.00420406e-01,  2.03008668e-01,  2.05598290e-01,  2.08189292e-01,\n",
       "          2.10781692e-01,  2.13375509e-01,  2.15970763e-01,  2.18567472e-01,\n",
       "          2.21165656e-01,  2.23765334e-01,  2.26366524e-01,  2.28969248e-01,\n",
       "          2.31573523e-01,  2.34179370e-01,  2.36786808e-01,  2.39395857e-01,\n",
       "          2.42006537e-01,  2.44618867e-01,  2.47232867e-01,  2.49848558e-01,\n",
       "          2.52465959e-01,  2.55085092e-01,  2.57705975e-01,  2.60328629e-01,\n",
       "          2.62953076e-01,  2.65579335e-01,  2.68207426e-01,  2.70837372e-01,\n",
       "          2.73469192e-01,  2.76102908e-01,  2.78738540e-01,  2.81376111e-01,\n",
       "          2.84015640e-01,  2.86657149e-01,  2.89300660e-01,  2.91946194e-01,\n",
       "          2.94593773e-01,  2.97243419e-01,  2.99895153e-01,  3.02548997e-01,\n",
       "          3.05204975e-01,  3.07863106e-01,  3.10523415e-01,  3.13185924e-01,\n",
       "          3.15850654e-01,  3.18517629e-01,  3.21186872e-01,  3.23858405e-01,\n",
       "          3.26532251e-01,  3.29208434e-01,  3.31886977e-01,  3.34567903e-01,\n",
       "          3.37251236e-01,  3.39936999e-01,  3.42625217e-01,  3.45315913e-01,\n",
       "          3.48009111e-01,  3.50704836e-01,  3.53403112e-01,  3.56103963e-01,\n",
       "          3.58807415e-01,  3.61513491e-01,  3.64222218e-01,  3.66933619e-01,\n",
       "          3.69647721e-01,  3.72364548e-01,  3.75084127e-01,  3.77806483e-01,\n",
       "          3.80531641e-01,  3.83259629e-01,  3.85990471e-01,  3.88724195e-01,\n",
       "          3.91460828e-01,  3.94200395e-01,  3.96942924e-01,  3.99688442e-01,\n",
       "          4.02436976e-01,  4.05188553e-01,  4.07943202e-01,  4.10700950e-01,\n",
       "          4.13461824e-01,  4.16225854e-01,  4.18993068e-01,  4.21763493e-01,\n",
       "          4.24537160e-01,  4.27314096e-01,  4.30094332e-01,  4.32877896e-01,\n",
       "          4.35664818e-01,  4.38455128e-01,  4.41248856e-01,  4.44046032e-01,\n",
       "          4.46846687e-01,  4.49650851e-01,  4.52458556e-01,  4.55269831e-01,\n",
       "          4.58084710e-01,  4.60903223e-01,  4.63725402e-01,  4.66551279e-01,\n",
       "          4.69380887e-01,  4.72214258e-01,  4.75051425e-01,  4.77892421e-01,\n",
       "          4.80737280e-01,  4.83586034e-01,  4.86438719e-01,  4.89295367e-01,\n",
       "          4.92156015e-01,  4.95020695e-01,  4.97889443e-01,  5.00762295e-01,\n",
       "          5.03639286e-01,  5.06520451e-01,  5.09405827e-01,  5.12295450e-01,\n",
       "          5.15189358e-01,  5.18087586e-01,  5.20990173e-01,  5.23897156e-01,\n",
       "          5.26808573e-01,  5.29724462e-01,  5.32644862e-01,  5.35569811e-01,\n",
       "          5.38499350e-01,  5.41433518e-01,  5.44372355e-01,  5.47315901e-01,\n",
       "          5.50264196e-01,  5.53217283e-01,  5.56175202e-01,  5.59137995e-01,\n",
       "          5.62105704e-01,  5.65078373e-01,  5.68056043e-01,  5.71038759e-01,\n",
       "          5.74026563e-01,  5.77019501e-01,  5.80017616e-01,  5.83020954e-01,\n",
       "          5.86029560e-01,  5.89043480e-01,  5.92062760e-01,  5.95087448e-01,\n",
       "          5.98117589e-01,  6.01153232e-01,  6.04194425e-01,  6.07241217e-01,\n",
       "          6.10293655e-01,  6.13351791e-01,  6.16415674e-01,  6.19485354e-01,\n",
       "          6.22560883e-01,  6.25642312e-01,  6.28729693e-01,  6.31823078e-01,\n",
       "          6.34922522e-01,  6.38028077e-01,  6.41139797e-01,  6.44257738e-01,\n",
       "          6.47381955e-01,  6.50512503e-01,  6.53649440e-01,  6.56792822e-01,\n",
       "          6.59942708e-01,  6.63099154e-01,  6.66262222e-01,  6.69431969e-01,\n",
       "          6.72608456e-01,  6.75791745e-01,  6.78981897e-01,  6.82178973e-01,\n",
       "          6.85383038e-01,  6.88594154e-01,  6.91812387e-01,  6.95037800e-01,\n",
       "          6.98270461e-01,  7.01510435e-01,  7.04757790e-01,  7.08012593e-01,\n",
       "          7.11274915e-01,  7.14544824e-01,  7.17822391e-01,  7.21107688e-01,\n",
       "          7.24400786e-01,  7.27701759e-01,  7.31010680e-01,  7.34327624e-01,\n",
       "          7.37652668e-01,  7.40985887e-01,  7.44327358e-01,  7.47677162e-01,\n",
       "          7.51035376e-01,  7.54402082e-01,  7.57777360e-01,  7.61161293e-01,\n",
       "          7.64553966e-01,  7.67955461e-01,  7.71365865e-01,  7.74785264e-01,\n",
       "          7.78213746e-01,  7.81651400e-01,  7.85098317e-01,  7.88554586e-01,\n",
       "          7.92020302e-01,  7.95495556e-01,  7.98980445e-01,  8.02475064e-01,\n",
       "          8.05979511e-01,  8.09493884e-01,  8.13018284e-01,  8.16552812e-01,\n",
       "          8.20097570e-01,  8.23652663e-01,  8.27218197e-01,  8.30794278e-01,\n",
       "          8.34381016e-01,  8.37978520e-01,  8.41586901e-01,  8.45206274e-01,\n",
       "          8.48836754e-01,  8.52478455e-01,  8.56131498e-01,  8.59796001e-01,\n",
       "          8.63472087e-01,  8.67159878e-01,  8.70859501e-01,  8.74571082e-01,\n",
       "          8.78294750e-01,  8.82030636e-01,  8.85778873e-01,  8.89539597e-01,\n",
       "          8.93312943e-01,  8.97099052e-01,  9.00898064e-01,  9.04710123e-01,\n",
       "          9.08535375e-01,  9.12373967e-01,  9.16226050e-01,  9.20091777e-01,\n",
       "          9.23971303e-01,  9.27864785e-01,  9.31772384e-01,  9.35694263e-01,\n",
       "          9.39630587e-01,  9.43581524e-01,  9.47547245e-01,  9.51527925e-01,\n",
       "          9.55523740e-01,  9.59534870e-01,  9.63561498e-01,  9.67603810e-01,\n",
       "          9.71661995e-01,  9.75736245e-01,  9.79826757e-01,  9.83933729e-01,\n",
       "          9.88057366e-01,  9.92197872e-01,  9.96355459e-01,  1.00053034e+00,\n",
       "          1.00472273e+00,  1.00893286e+00,  1.01316095e+00,  1.01740722e+00,\n",
       "          1.02167193e+00,  1.02595529e+00,  1.03025756e+00,  1.03457899e+00,\n",
       "          1.03891982e+00,  1.04328032e+00,  1.04766075e+00,  1.05206137e+00,\n",
       "          1.05648246e+00,  1.06092429e+00,  1.06538716e+00,  1.06987135e+00,\n",
       "          1.07437716e+00,  1.07890488e+00,  1.08345483e+00,  1.08802733e+00,\n",
       "          1.09262268e+00,  1.09724123e+00,  1.10188329e+00,  1.10654923e+00,\n",
       "          1.11123938e+00,  1.11595411e+00,  1.12069377e+00,  1.12545874e+00,\n",
       "          1.13024940e+00,  1.13506615e+00,  1.13990937e+00,  1.14477948e+00,\n",
       "          1.14967690e+00,  1.15460205e+00,  1.15955536e+00,  1.16453729e+00,\n",
       "          1.16954829e+00,  1.17458883e+00,  1.17965940e+00,  1.18476047e+00,\n",
       "          1.18989256e+00,  1.19505619e+00,  1.20025188e+00,  1.20548017e+00,\n",
       "          1.21074162e+00,  1.21603681e+00,  1.22136631e+00,  1.22673073e+00,\n",
       "          1.23213069e+00,  1.23756681e+00,  1.24303976e+00,  1.24855020e+00,\n",
       "          1.25409881e+00,  1.25968630e+00,  1.26531340e+00,  1.27098085e+00,\n",
       "          1.27668942e+00,  1.28243990e+00,  1.28823311e+00,  1.29406987e+00,\n",
       "          1.29995106e+00,  1.30587756e+00,  1.31185028e+00,  1.31787018e+00,\n",
       "          1.32393821e+00,  1.33005539e+00,  1.33622275e+00,  1.34244135e+00,\n",
       "          1.34871231e+00,  1.35503675e+00,  1.36141587e+00,  1.36785088e+00,\n",
       "          1.37434302e+00,  1.38089362e+00,  1.38750402e+00,  1.39417560e+00,\n",
       "          1.40090983e+00,  1.40770819e+00,  1.41457224e+00,  1.42150360e+00,\n",
       "          1.42850393e+00,  1.43557498e+00,  1.44271853e+00,  1.44993648e+00,\n",
       "          1.45723078e+00,  1.46460344e+00,  1.47205658e+00,  1.47959240e+00,\n",
       "          1.48721319e+00,  1.49492135e+00,  1.50271937e+00,  1.51060986e+00,\n",
       "          1.51859553e+00,  1.52667924e+00,  1.53486396e+00,  1.54315281e+00,\n",
       "          1.55154906e+00,  1.56005613e+00,  1.56867763e+00,  1.57741734e+00,\n",
       "          1.58627922e+00,  1.59526745e+00,  1.60438644e+00,  1.61364084e+00,\n",
       "          1.62303553e+00,  1.63257570e+00,  1.64226681e+00,  1.65211467e+00,\n",
       "          1.66212540e+00,  1.67230553e+00,  1.68266198e+00,  1.69320212e+00,\n",
       "          1.70393379e+00,  1.71486537e+00,  1.72600580e+00,  1.73736465e+00,\n",
       "          1.74895220e+00,  1.76077946e+00,  1.77285827e+00,  1.78520143e+00,\n",
       "          1.79782272e+00,  1.81073706e+00,  1.82396067e+00,  1.83751113e+00,\n",
       "          1.85140764e+00,  1.86567116e+00,  1.88032467e+00,  1.89539343e+00,\n",
       "          1.91090528e+00,  1.92689103e+00,  1.94338493e+00,  1.96042511e+00,\n",
       "          1.97805432e+00,  1.99632062e+00,  2.01527836e+00,  2.03498932e+00,\n",
       "          2.05552417e+00,  2.07696424e+00,  2.09940385e+00,  2.12295322e+00,\n",
       "          2.14774237e+00,  2.17392612e+00,  2.20169104e+00,  2.23126477e+00,\n",
       "          2.26292923e+00,  2.29703965e+00,  2.33405267e+00,  2.37456967e+00,\n",
       "          2.41940604e+00,  2.46970815e+00,  2.52716372e+00,  2.59441353e+00,\n",
       "          2.67595340e+00,  2.78046228e+00,  2.92862832e+00,  3.19410727e+00]),\n",
       "  array([0.01      , 0.01      , 0.01      , 0.01      , 0.01      ,\n",
       "         0.01      , 0.01      , 0.01      , 0.01      , 0.01      ,\n",
       "         0.01      , 0.01      , 0.01      , 0.01      , 0.01      ,\n",
       "         0.01      , 0.01      , 0.01010101, 0.01010101, 0.01010101,\n",
       "         0.01030928, 0.01030928, 0.01030928, 0.01030928, 0.01030928,\n",
       "         0.01041667, 0.01041667, 0.01041667, 0.01041667, 0.01052632,\n",
       "         0.01052632, 0.01052632, 0.01052632, 0.01052632, 0.01052632,\n",
       "         0.01052632, 0.01052632, 0.0106383 , 0.0106383 , 0.0106383 ,\n",
       "         0.01075269, 0.01075269, 0.01075269, 0.01075269, 0.01075269,\n",
       "         0.01075269, 0.01086957, 0.01086957, 0.01086957, 0.01086957,\n",
       "         0.01086957, 0.01086957, 0.01086957, 0.01086957, 0.01086957,\n",
       "         0.01086957, 0.01098901, 0.01098901, 0.01098901, 0.01098901,\n",
       "         0.01098901, 0.01098901, 0.01111111, 0.01111111, 0.01111111,\n",
       "         0.01111111, 0.01111111, 0.01111111, 0.01111111, 0.01111111,\n",
       "         0.01111111, 0.01111111, 0.01111111, 0.01111111, 0.01111111,\n",
       "         0.01111111, 0.01111111, 0.01111111, 0.01123596, 0.01123596,\n",
       "         0.01123596, 0.01123596, 0.01123596, 0.01123596, 0.01123596,\n",
       "         0.01123596, 0.01123596, 0.01123596, 0.01123596, 0.01123596,\n",
       "         0.01136364, 0.01136364, 0.01136364, 0.01136364, 0.01136364,\n",
       "         0.01136364, 0.01136364, 0.01136364, 0.01136364, 0.01149425,\n",
       "         0.01149425, 0.01149425, 0.01149425, 0.01149425, 0.01149425,\n",
       "         0.01149425, 0.01149425, 0.01149425, 0.01149425, 0.01149425,\n",
       "         0.01149425, 0.01149425, 0.01162791, 0.01162791, 0.01162791,\n",
       "         0.01162791, 0.01162791, 0.01162791, 0.01162791, 0.01162791,\n",
       "         0.01162791, 0.01162791, 0.01162791, 0.01162791, 0.01162791,\n",
       "         0.01162791, 0.01162791, 0.01162791, 0.01162791, 0.01162791,\n",
       "         0.01162791, 0.01176471, 0.01176471, 0.01176471, 0.01176471,\n",
       "         0.01176471, 0.01176471, 0.01176471, 0.01176471, 0.01176471,\n",
       "         0.01176471, 0.01176471, 0.01176471, 0.01176471, 0.01176471,\n",
       "         0.01176471, 0.01176471, 0.01176471, 0.01176471, 0.01190476,\n",
       "         0.01190476, 0.01190476, 0.01190476, 0.01190476, 0.01190476,\n",
       "         0.01190476, 0.01190476, 0.01190476, 0.01190476, 0.01190476,\n",
       "         0.01190476, 0.01190476, 0.01190476, 0.01190476, 0.01190476,\n",
       "         0.01190476, 0.01190476, 0.01190476, 0.01190476, 0.01190476,\n",
       "         0.01190476, 0.01190476, 0.01190476, 0.01190476, 0.01190476,\n",
       "         0.01204819, 0.01204819, 0.01204819, 0.01204819, 0.01204819,\n",
       "         0.01204819, 0.01204819, 0.01204819, 0.01204819, 0.01204819,\n",
       "         0.01204819, 0.01204819, 0.01204819, 0.01204819, 0.01219512,\n",
       "         0.01219512, 0.01219512, 0.01219512, 0.01219512, 0.01219512,\n",
       "         0.01219512, 0.01219512, 0.01219512, 0.01219512, 0.01219512,\n",
       "         0.01219512, 0.01219512, 0.01219512, 0.01219512, 0.01219512,\n",
       "         0.01219512, 0.01219512, 0.01219512, 0.01219512, 0.01234568,\n",
       "         0.01234568, 0.01234568, 0.01234568, 0.01234568, 0.01234568,\n",
       "         0.01234568, 0.01234568, 0.01234568, 0.01234568, 0.01234568,\n",
       "         0.01234568, 0.01234568, 0.01234568, 0.01234568, 0.01234568,\n",
       "         0.01234568, 0.01234568, 0.01234568, 0.01234568, 0.01234568,\n",
       "         0.01234568, 0.01234568, 0.01234568, 0.01234568, 0.0125    ,\n",
       "         0.0125    , 0.0125    , 0.0125    , 0.0125    , 0.0125    ,\n",
       "         0.0125    , 0.0125    , 0.0125    , 0.0125    , 0.0125    ,\n",
       "         0.0125    , 0.0125    , 0.0125    , 0.01265823, 0.01265823,\n",
       "         0.01265823, 0.01265823, 0.01265823, 0.01265823, 0.01265823,\n",
       "         0.01265823, 0.01265823, 0.01265823, 0.01265823, 0.01265823,\n",
       "         0.01265823, 0.01265823, 0.01265823, 0.01265823, 0.01265823,\n",
       "         0.01265823, 0.01265823, 0.01282051, 0.01282051, 0.01282051,\n",
       "         0.01282051, 0.01282051, 0.01282051, 0.01282051, 0.01282051,\n",
       "         0.01282051, 0.01282051, 0.01282051, 0.01282051, 0.01282051,\n",
       "         0.01282051, 0.01282051, 0.01282051, 0.01282051, 0.01282051,\n",
       "         0.01282051, 0.01282051, 0.01282051, 0.01282051, 0.01282051,\n",
       "         0.01282051, 0.01282051, 0.01282051, 0.01298701, 0.01298701,\n",
       "         0.01298701, 0.01298701, 0.01298701, 0.01298701, 0.01298701,\n",
       "         0.01298701, 0.01298701, 0.01298701, 0.01298701, 0.01298701,\n",
       "         0.01298701, 0.01298701, 0.01298701, 0.01298701, 0.01298701,\n",
       "         0.01298701, 0.01298701, 0.01298701, 0.01298701, 0.01298701,\n",
       "         0.01298701, 0.01298701, 0.01315789, 0.01315789, 0.01315789,\n",
       "         0.01315789, 0.01315789, 0.01315789, 0.01315789, 0.01315789,\n",
       "         0.01315789, 0.01315789, 0.01315789, 0.01315789, 0.01315789,\n",
       "         0.01315789, 0.01315789, 0.01315789, 0.01315789, 0.01315789,\n",
       "         0.01315789, 0.01315789, 0.01315789, 0.01315789, 0.01315789,\n",
       "         0.01315789, 0.01315789, 0.01333333, 0.01333333, 0.01333333,\n",
       "         0.01333333, 0.01333333, 0.01333333, 0.01333333, 0.01333333,\n",
       "         0.01333333, 0.01333333, 0.01333333, 0.01333333, 0.01333333,\n",
       "         0.01333333, 0.01333333, 0.01333333, 0.01333333, 0.01333333,\n",
       "         0.01333333, 0.01333333, 0.01333333, 0.01333333, 0.01333333,\n",
       "         0.01333333, 0.01333333, 0.01333333, 0.01351351, 0.01351351,\n",
       "         0.01351351, 0.01351351, 0.01351351, 0.01351351, 0.01351351,\n",
       "         0.01351351, 0.01351351, 0.01351351, 0.01351351, 0.01351351,\n",
       "         0.01351351, 0.01351351, 0.01351351, 0.01351351, 0.01351351,\n",
       "         0.01351351, 0.01351351, 0.01351351, 0.01351351, 0.01351351,\n",
       "         0.01351351, 0.01351351, 0.01351351, 0.01351351, 0.01351351,\n",
       "         0.01351351, 0.01351351, 0.01351351, 0.01351351, 0.01351351,\n",
       "         0.01351351, 0.01369863, 0.01369863, 0.01369863, 0.01369863,\n",
       "         0.01369863, 0.01369863, 0.01369863, 0.01369863, 0.01369863,\n",
       "         0.01369863, 0.01369863, 0.01369863, 0.01369863, 0.01369863,\n",
       "         0.01369863, 0.01369863, 0.01369863, 0.01369863, 0.01369863,\n",
       "         0.01369863, 0.01369863, 0.01369863, 0.01369863, 0.01369863,\n",
       "         0.01369863, 0.01369863, 0.01369863, 0.01369863, 0.01369863,\n",
       "         0.01369863, 0.01388889, 0.01388889, 0.01388889, 0.01388889,\n",
       "         0.01388889, 0.01388889, 0.01388889, 0.01388889, 0.01388889,\n",
       "         0.01388889, 0.01388889, 0.01388889, 0.01388889, 0.01388889,\n",
       "         0.01388889, 0.01388889, 0.01388889, 0.01388889, 0.01388889,\n",
       "         0.01388889, 0.01388889, 0.01388889, 0.01388889, 0.01388889,\n",
       "         0.01388889, 0.01388889, 0.01388889, 0.01388889, 0.01388889,\n",
       "         0.01388889, 0.01388889, 0.01388889, 0.01388889, 0.01408451,\n",
       "         0.01408451, 0.01408451, 0.01408451, 0.01408451, 0.01408451,\n",
       "         0.01408451, 0.01408451, 0.01408451, 0.01408451, 0.01408451,\n",
       "         0.01408451, 0.01408451, 0.01408451, 0.01408451, 0.01408451,\n",
       "         0.01408451, 0.01408451, 0.01408451, 0.01408451, 0.01428571,\n",
       "         0.01428571, 0.01428571, 0.01428571, 0.01428571, 0.01428571,\n",
       "         0.01428571, 0.01428571, 0.01428571, 0.01428571, 0.01428571,\n",
       "         0.01428571, 0.01428571, 0.01428571, 0.01428571, 0.01428571,\n",
       "         0.01428571, 0.01428571, 0.01428571, 0.01428571, 0.01428571,\n",
       "         0.01428571, 0.01428571, 0.01428571, 0.01428571, 0.01428571,\n",
       "         0.01445916, 0.01445916, 0.01449275, 0.01449275, 0.01449275,\n",
       "         0.01449275, 0.01449275, 0.01449275, 0.01449275, 0.01449275,\n",
       "         0.01449275, 0.01449275, 0.01449275, 0.01449275, 0.01449275,\n",
       "         0.01449275, 0.01449275, 0.01470588, 0.01470588, 0.01470588,\n",
       "         0.01470588, 0.01470588, 0.01470588, 0.01470588, 0.01470588,\n",
       "         0.01470588, 0.01470588, 0.01470588, 0.01470588, 0.01470588,\n",
       "         0.01470588, 0.01470588, 0.01470588, 0.01470588, 0.01470588,\n",
       "         0.01470588, 0.01470588, 0.01470588, 0.01470588, 0.01470588,\n",
       "         0.01492537, 0.01492537, 0.01492537, 0.01492537, 0.01492537,\n",
       "         0.01492537, 0.01492537, 0.01492537, 0.01492537, 0.01492537,\n",
       "         0.01492537, 0.01492537, 0.01492537, 0.01492537, 0.01492537,\n",
       "         0.01492537, 0.01492537, 0.01492537, 0.01492537, 0.01492537,\n",
       "         0.01492537, 0.01492537, 0.01492537, 0.01492537, 0.01492537,\n",
       "         0.01492537, 0.01492537, 0.01492537, 0.01492537, 0.01492537,\n",
       "         0.01515152, 0.01515152, 0.01515152, 0.01515152, 0.01515152,\n",
       "         0.01515152, 0.01515152, 0.01515152, 0.01515152, 0.01515152,\n",
       "         0.01515152, 0.01515152, 0.01515152, 0.01515152, 0.01515152,\n",
       "         0.01515152, 0.01515152, 0.01515152, 0.01515152, 0.01515152,\n",
       "         0.01515152, 0.01515152, 0.01515152, 0.01515152, 0.01515152,\n",
       "         0.01515152, 0.01515152, 0.01538462, 0.01538462, 0.01538462,\n",
       "         0.01538462, 0.01538462, 0.01538462, 0.01538462, 0.01538462,\n",
       "         0.01538462, 0.01538462, 0.01538462, 0.01538462, 0.01538462,\n",
       "         0.01538462, 0.01538462, 0.01538462, 0.01538462, 0.01538462,\n",
       "         0.01538462, 0.015625  , 0.015625  , 0.015625  , 0.015625  ,\n",
       "         0.015625  , 0.015625  , 0.015625  , 0.015625  , 0.015625  ,\n",
       "         0.015625  , 0.015625  , 0.015625  , 0.015625  , 0.015625  ,\n",
       "         0.015625  , 0.015625  , 0.015625  , 0.015625  , 0.015625  ,\n",
       "         0.015625  , 0.015625  , 0.015625  , 0.015625  , 0.015625  ,\n",
       "         0.015625  , 0.015625  , 0.015625  , 0.015625  , 0.015625  ,\n",
       "         0.015625  , 0.015625  , 0.015625  , 0.01587302, 0.01587302,\n",
       "         0.01587302, 0.01587302, 0.01587302, 0.01587302, 0.01587302,\n",
       "         0.01587302, 0.01587302, 0.01587302, 0.01587302, 0.01587302,\n",
       "         0.01587302, 0.01587302, 0.01587302, 0.01587302, 0.01587302,\n",
       "         0.01587302, 0.01587302, 0.01587302, 0.01612903, 0.01612903,\n",
       "         0.01612903, 0.01612903, 0.01612903, 0.01612903, 0.01612903,\n",
       "         0.01612903, 0.01612903, 0.01612903, 0.01612903, 0.01612903,\n",
       "         0.01612903, 0.01612903, 0.01612903, 0.01612903, 0.01612903,\n",
       "         0.01612903, 0.01612903, 0.01612903, 0.01612903, 0.01612903,\n",
       "         0.01639344, 0.01639344, 0.01639344, 0.01639344, 0.01639344,\n",
       "         0.01639344, 0.01639344, 0.01639344, 0.01639344, 0.01639344,\n",
       "         0.01639344, 0.01639344, 0.01639344, 0.01639344, 0.01639344,\n",
       "         0.01639344, 0.01639344, 0.01639344, 0.01639344, 0.01639344,\n",
       "         0.01639344, 0.01639344, 0.01639344, 0.01639344, 0.01666667,\n",
       "         0.01666667, 0.01666667, 0.01666667, 0.01666667, 0.01666667,\n",
       "         0.01666667, 0.01666667, 0.01666667, 0.01666667, 0.01666667,\n",
       "         0.01666667, 0.01666667, 0.01666667, 0.01666667, 0.01666667,\n",
       "         0.01666667, 0.01666667, 0.01666667, 0.01666667, 0.01666667,\n",
       "         0.01694915, 0.01694915, 0.01694915, 0.01694915, 0.01694915,\n",
       "         0.01694915, 0.01694915, 0.01694915, 0.01694915, 0.01694915,\n",
       "         0.01694915, 0.01694915, 0.01694915, 0.01694915, 0.01694915,\n",
       "         0.01694915, 0.01694915, 0.01724138, 0.01724138, 0.01724138,\n",
       "         0.01724138, 0.01724138, 0.01724138, 0.01724138, 0.01724138,\n",
       "         0.01724138, 0.01724138, 0.01724138, 0.01724138, 0.01724138,\n",
       "         0.01724138, 0.01724138, 0.01724138, 0.01724138, 0.01724138,\n",
       "         0.01724138, 0.01724138, 0.01724138, 0.01724138, 0.01724138,\n",
       "         0.01724138, 0.01724138, 0.01724138, 0.01724138, 0.01724138,\n",
       "         0.01754386, 0.01754386, 0.01754386, 0.01754386, 0.01754386,\n",
       "         0.01754386, 0.01754386, 0.01754386, 0.01754386, 0.01754386,\n",
       "         0.01754386, 0.01754386, 0.01754386, 0.01754386, 0.01754386,\n",
       "         0.01754386, 0.01785714, 0.01785714, 0.01785714, 0.01785714,\n",
       "         0.01785714, 0.01785714, 0.01785714, 0.01785714, 0.01785714,\n",
       "         0.01785714, 0.01785714, 0.01785714, 0.01785714, 0.01785714,\n",
       "         0.01785714, 0.01785714, 0.01818182, 0.01818182, 0.01818182,\n",
       "         0.01818182, 0.01818182, 0.01818182, 0.01818182, 0.01818182,\n",
       "         0.01818182, 0.01818182, 0.01818182, 0.01818182, 0.01818182,\n",
       "         0.01818182, 0.01818182, 0.01818182, 0.01851852, 0.01851852,\n",
       "         0.01851852, 0.01851852, 0.01851852, 0.01851852, 0.01851852,\n",
       "         0.01851852, 0.01851852, 0.01851852, 0.01851852, 0.01851852,\n",
       "         0.01851852, 0.01851852, 0.01851852, 0.01851852, 0.01851852,\n",
       "         0.01851852, 0.01886792, 0.01886792, 0.01886792, 0.01886792,\n",
       "         0.01886792, 0.01886792, 0.01886792, 0.01886792, 0.01886792,\n",
       "         0.01886792, 0.01886792, 0.01886792, 0.01886792, 0.01923077,\n",
       "         0.01923077, 0.01923077, 0.01923077, 0.01923077, 0.01923077,\n",
       "         0.01923077, 0.01923077, 0.01923077, 0.01923077, 0.01923077,\n",
       "         0.01923077, 0.01923077, 0.01923077, 0.01923077, 0.01923077,\n",
       "         0.01960784, 0.01960784, 0.01960784, 0.01960784, 0.01960784,\n",
       "         0.01960784, 0.01960784, 0.01960784, 0.01960784, 0.01960784,\n",
       "         0.01960784, 0.01960784, 0.01960784, 0.01960784, 0.01960784,\n",
       "         0.01960784, 0.02      , 0.02      , 0.02      , 0.02      ,\n",
       "         0.02      , 0.02      , 0.02      , 0.02040816, 0.02040816,\n",
       "         0.02040816, 0.02040816, 0.02040816, 0.02040816, 0.02040816,\n",
       "         0.02040816, 0.02040816, 0.02040816, 0.02083333, 0.02083333,\n",
       "         0.02083333, 0.02083333, 0.02083333, 0.02083333, 0.02083333,\n",
       "         0.02083333, 0.02083333, 0.02083333, 0.0212766 , 0.0212766 ,\n",
       "         0.0212766 , 0.0212766 , 0.02173913, 0.02173913, 0.02173913,\n",
       "         0.02173913, 0.02173913, 0.02173913, 0.02222222, 0.02222222,\n",
       "         0.02222222, 0.02222222, 0.02222222, 0.02222222, 0.02222222,\n",
       "         0.02272727, 0.02272727, 0.02272727, 0.02325581, 0.02325581,\n",
       "         0.02325581, 0.02325581, 0.02325581, 0.02325581, 0.02325581,\n",
       "         0.02325581, 0.02325581, 0.02380952, 0.02380952, 0.02380952,\n",
       "         0.02380952, 0.02380952, 0.02380952, 0.02380952, 0.02439024,\n",
       "         0.02439024, 0.02439024, 0.02439024, 0.02439024, 0.02439024,\n",
       "         0.025     , 0.02564103, 0.02564103, 0.02564103, 0.02564103,\n",
       "         0.02564103, 0.02702703, 0.02702703, 0.02702703, 0.02941176,\n",
       "         0.02941176, 0.03225806, 0.03448276, 0.03448276, 0.03571429,\n",
       "         0.03846154, 0.04166667, 0.04347826])),\n",
       " (0.0035002429169806886, 0.015107681440168809, 0.9208962382223526))"
      ]
     },
     "execution_count": 356,
     "metadata": {},
     "output_type": "execute_result"
    },
    {
     "data": {
      "image/png": "[encoded data removed]",
      "text/plain": [
       "<Figure size 432x288 with 1 Axes>"
      ]
     },
     "metadata": {
      "needs_background": "light"
     },
     "output_type": "display_data"
    }
   ],
   "source": [
    "import scipy.stats as stats\n",
    "import pylab\n",
    "stats.probplot(dfx[\"reading score reciprocal\"],plot=pylab)"
   ]
  },
  {
   "cell_type": "code",
   "execution_count": 357,
   "id": "d1b01885",
   "metadata": {},
   "outputs": [
    {
     "data": {
      "text/html": [
       "<div>\n",
       "<style scoped>\n",
       "    .dataframe tbody tr th:only-of-type {\n",
       "        vertical-align: middle;\n",
       "    }\n",
       "\n",
       "    .dataframe tbody tr th {\n",
       "        vertical-align: top;\n",
       "    }\n",
       "\n",
       "    .dataframe thead th {\n",
       "        text-align: right;\n",
       "    }\n",
       "</style>\n",
       "<table border=\"1\" class=\"dataframe\">\n",
       "  <thead>\n",
       "    <tr style=\"text-align: right;\">\n",
       "      <th></th>\n",
       "      <th>race/ethnicity</th>\n",
       "      <th>parental level of education</th>\n",
       "      <th>lunch</th>\n",
       "      <th>test preparation course</th>\n",
       "      <th>math score</th>\n",
       "      <th>reading score</th>\n",
       "      <th>writing score</th>\n",
       "      <th>reading score reciprocal</th>\n",
       "      <th>gender_female</th>\n",
       "      <th>gender_male</th>\n",
       "    </tr>\n",
       "  </thead>\n",
       "  <tbody>\n",
       "    <tr>\n",
       "      <th>1</th>\n",
       "      <td>group C</td>\n",
       "      <td>some college</td>\n",
       "      <td>standard</td>\n",
       "      <td>completed</td>\n",
       "      <td>66.101101</td>\n",
       "      <td>69.160321</td>\n",
       "      <td>88</td>\n",
       "      <td>0.014459</td>\n",
       "      <td>1</td>\n",
       "      <td>0</td>\n",
       "    </tr>\n",
       "    <tr>\n",
       "      <th>2</th>\n",
       "      <td>group B</td>\n",
       "      <td>master's degree</td>\n",
       "      <td>standard</td>\n",
       "      <td>none</td>\n",
       "      <td>90.000000</td>\n",
       "      <td>95.000000</td>\n",
       "      <td>93</td>\n",
       "      <td>0.010526</td>\n",
       "      <td>1</td>\n",
       "      <td>0</td>\n",
       "    </tr>\n",
       "    <tr>\n",
       "      <th>3</th>\n",
       "      <td>group A</td>\n",
       "      <td>associate's degree</td>\n",
       "      <td>free/reduced</td>\n",
       "      <td>none</td>\n",
       "      <td>47.000000</td>\n",
       "      <td>69.160321</td>\n",
       "      <td>44</td>\n",
       "      <td>0.014459</td>\n",
       "      <td>0</td>\n",
       "      <td>1</td>\n",
       "    </tr>\n",
       "    <tr>\n",
       "      <th>5</th>\n",
       "      <td>group B</td>\n",
       "      <td>associate's degree</td>\n",
       "      <td>standard</td>\n",
       "      <td>none</td>\n",
       "      <td>71.000000</td>\n",
       "      <td>83.000000</td>\n",
       "      <td>78</td>\n",
       "      <td>0.012048</td>\n",
       "      <td>1</td>\n",
       "      <td>0</td>\n",
       "    </tr>\n",
       "    <tr>\n",
       "      <th>6</th>\n",
       "      <td>group B</td>\n",
       "      <td>some college</td>\n",
       "      <td>standard</td>\n",
       "      <td>completed</td>\n",
       "      <td>88.000000</td>\n",
       "      <td>95.000000</td>\n",
       "      <td>92</td>\n",
       "      <td>0.010526</td>\n",
       "      <td>1</td>\n",
       "      <td>0</td>\n",
       "    </tr>\n",
       "    <tr>\n",
       "      <th>...</th>\n",
       "      <td>...</td>\n",
       "      <td>...</td>\n",
       "      <td>...</td>\n",
       "      <td>...</td>\n",
       "      <td>...</td>\n",
       "      <td>...</td>\n",
       "      <td>...</td>\n",
       "      <td>...</td>\n",
       "      <td>...</td>\n",
       "      <td>...</td>\n",
       "    </tr>\n",
       "    <tr>\n",
       "      <th>995</th>\n",
       "      <td>group E</td>\n",
       "      <td>master's degree</td>\n",
       "      <td>standard</td>\n",
       "      <td>completed</td>\n",
       "      <td>88.000000</td>\n",
       "      <td>99.000000</td>\n",
       "      <td>95</td>\n",
       "      <td>0.010101</td>\n",
       "      <td>1</td>\n",
       "      <td>0</td>\n",
       "    </tr>\n",
       "    <tr>\n",
       "      <th>996</th>\n",
       "      <td>group C</td>\n",
       "      <td>high school</td>\n",
       "      <td>free/reduced</td>\n",
       "      <td>none</td>\n",
       "      <td>62.000000</td>\n",
       "      <td>55.000000</td>\n",
       "      <td>55</td>\n",
       "      <td>0.018182</td>\n",
       "      <td>0</td>\n",
       "      <td>1</td>\n",
       "    </tr>\n",
       "    <tr>\n",
       "      <th>997</th>\n",
       "      <td>group C</td>\n",
       "      <td>high school</td>\n",
       "      <td>free/reduced</td>\n",
       "      <td>completed</td>\n",
       "      <td>59.000000</td>\n",
       "      <td>71.000000</td>\n",
       "      <td>65</td>\n",
       "      <td>0.014085</td>\n",
       "      <td>1</td>\n",
       "      <td>0</td>\n",
       "    </tr>\n",
       "    <tr>\n",
       "      <th>998</th>\n",
       "      <td>group D</td>\n",
       "      <td>some college</td>\n",
       "      <td>standard</td>\n",
       "      <td>completed</td>\n",
       "      <td>68.000000</td>\n",
       "      <td>78.000000</td>\n",
       "      <td>77</td>\n",
       "      <td>0.012821</td>\n",
       "      <td>1</td>\n",
       "      <td>0</td>\n",
       "    </tr>\n",
       "    <tr>\n",
       "      <th>999</th>\n",
       "      <td>group D</td>\n",
       "      <td>some college</td>\n",
       "      <td>free/reduced</td>\n",
       "      <td>none</td>\n",
       "      <td>77.000000</td>\n",
       "      <td>86.000000</td>\n",
       "      <td>86</td>\n",
       "      <td>0.011628</td>\n",
       "      <td>1</td>\n",
       "      <td>0</td>\n",
       "    </tr>\n",
       "  </tbody>\n",
       "</table>\n",
       "<p>988 rows × 10 columns</p>\n",
       "</div>"
      ],
      "text/plain": [
       "    race/ethnicity parental level of education         lunch  \\\n",
       "1          group C                some college      standard   \n",
       "2          group B             master's degree      standard   \n",
       "3          group A          associate's degree  free/reduced   \n",
       "5          group B          associate's degree      standard   \n",
       "6          group B                some college      standard   \n",
       "..             ...                         ...           ...   \n",
       "995        group E             master's degree      standard   \n",
       "996        group C                 high school  free/reduced   \n",
       "997        group C                 high school  free/reduced   \n",
       "998        group D                some college      standard   \n",
       "999        group D                some college  free/reduced   \n",
       "\n",
       "    test preparation course  math score  reading score  writing score  \\\n",
       "1                 completed   66.101101      69.160321             88   \n",
       "2                      none   90.000000      95.000000             93   \n",
       "3                      none   47.000000      69.160321             44   \n",
       "5                      none   71.000000      83.000000             78   \n",
       "6                 completed   88.000000      95.000000             92   \n",
       "..                      ...         ...            ...            ...   \n",
       "995               completed   88.000000      99.000000             95   \n",
       "996                    none   62.000000      55.000000             55   \n",
       "997               completed   59.000000      71.000000             65   \n",
       "998               completed   68.000000      78.000000             77   \n",
       "999                    none   77.000000      86.000000             86   \n",
       "\n",
       "     reading score reciprocal  gender_female  gender_male  \n",
       "1                    0.014459              1            0  \n",
       "2                    0.010526              1            0  \n",
       "3                    0.014459              0            1  \n",
       "5                    0.012048              1            0  \n",
       "6                    0.010526              1            0  \n",
       "..                        ...            ...          ...  \n",
       "995                  0.010101              1            0  \n",
       "996                  0.018182              0            1  \n",
       "997                  0.014085              1            0  \n",
       "998                  0.012821              1            0  \n",
       "999                  0.011628              1            0  \n",
       "\n",
       "[988 rows x 10 columns]"
      ]
     },
     "execution_count": 357,
     "metadata": {},
     "output_type": "execute_result"
    }
   ],
   "source": [
    "pd.get_dummies(dfx,columns=[\"gender\"])"
   ]
  },
  {
   "cell_type": "code",
   "execution_count": 362,
   "id": "baebd45c",
   "metadata": {},
   "outputs": [
    {
     "name": "stderr",
     "output_type": "stream",
     "text": [
      "C:\\Users\\L470_2\\AppData\\Local\\Temp\\ipykernel_2732\\174186129.py:1: FutureWarning: Dropping of nuisance columns in DataFrame reductions (with 'numeric_only=None') is deprecated; in a future version this will raise TypeError.  Select only valid columns before calling the reduction.\n",
      "  dfx.skew()\n"
     ]
    },
    {
     "data": {
      "text/plain": [
       "math score                 -0.042789\n",
       "reading score              -0.172558\n",
       "writing score              -0.191399\n",
       "reading score reciprocal    2.166358\n",
       "dtype: float64"
      ]
     },
     "execution_count": 362,
     "metadata": {},
     "output_type": "execute_result"
    }
   ],
   "source": [
    "dfx.skew()\n"
   ]
  },
  {
   "cell_type": "code",
   "execution_count": 366,
   "id": "ea682c1f",
   "metadata": {},
   "outputs": [
    {
     "name": "stderr",
     "output_type": "stream",
     "text": [
      "C:\\Users\\L470_2\\AppData\\Local\\Temp\\ipykernel_2732\\3911642231.py:3: FutureWarning: Dropping of nuisance columns in DataFrame reductions (with 'numeric_only=None') is deprecated; in a future version this will raise TypeError.  Select only valid columns before calling the reduction.\n",
      "  dfx.skew()\n"
     ]
    },
    {
     "data": {
      "text/plain": [
       "math score                 -0.042789\n",
       "reading score              -0.172558\n",
       "writing score              -0.191399\n",
       "reading score reciprocal    0.898662\n",
       "dtype: float64"
      ]
     },
     "execution_count": 366,
     "metadata": {},
     "output_type": "execute_result"
    }
   ],
   "source": [
    "sk = np.log(dfx[\"reading score reciprocal\"])\n",
    "dfx[\"reading score reciprocal\"] = sk\n",
    "dfx.skew()"
   ]
  },
  {
   "cell_type": "code",
   "execution_count": 367,
   "id": "d069ba78",
   "metadata": {},
   "outputs": [
    {
     "data": {
      "text/plain": [
       "<AxesSubplot:xlabel='reading score reciprocal', ylabel='Density'>"
      ]
     },
     "execution_count": 367,
     "metadata": {},
     "output_type": "execute_result"
    },
    {
     "data": {
      "image/png": "[encoded data removed]",
      "text/plain": [
       "<Figure size 432x288 with 1 Axes>"
      ]
     },
     "metadata": {
      "needs_background": "light"
     },
     "output_type": "display_data"
    }
   ],
   "source": [
    "sns.kdeplot(dfx[\"reading score reciprocal\"])"
   ]
  },
  {
   "cell_type": "code",
   "execution_count": null,
   "id": "873c5519",
   "metadata": {},
   "outputs": [],
   "source": []
  }
 ],
 "metadata": {
  "kernelspec": {
   "display_name": "Python 3 (ipykernel)",
   "language": "python",
   "name": "python3"
  },
  "language_info": {
   "codemirror_mode": {
    "name": "ipython",
    "version": 3
   },
   "file_extension": ".py",
   "mimetype": "text/x-python",
   "name": "python",
   "nbconvert_exporter": "python",
   "pygments_lexer": "ipython3",
   "version": "3.9.6"
  }
 },
 "nbformat": 4,
 "nbformat_minor": 5
}
