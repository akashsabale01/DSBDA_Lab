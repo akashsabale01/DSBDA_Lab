{
  "cells": [
    {
      "cell_type": "markdown",
      "metadata": {
        "id": "view-in-github",
        "colab_type": "text"
      },
      "source": [
        "<a href=\"https://colab.research.google.com/github/akashsabale01/DSBDA_Lab/blob/main/Ass_No_7_Part_2.ipynb\" target=\"_parent\"><img src=\"https://colab.research.google.com/assets/colab-badge.svg\" alt=\"Open In Colab\"/></a>"
      ]
    },
    {
      "cell_type": "markdown",
      "source": [
        "# Ass No 7 (Part 2) - Text Analytics \n",
        "(Part 1). Extract Sample document and apply following document preprocessing methods:\n",
        "Tokenization, POS Tagging, stop words removal, Stemming and Lemmatization.\n",
        "\n",
        "(Part 2). Create representation of document by calculating Term Frequency and Inverse Document\n",
        "Frequency.\n"
      ],
      "metadata": {
        "id": "ZyUsJNVxuMpm"
      },
      "id": "ZyUsJNVxuMpm"
    },
    {
      "cell_type": "code",
      "execution_count": 1,
      "id": "74cc6576",
      "metadata": {
        "id": "74cc6576"
      },
      "outputs": [],
      "source": [
        "import pandas as pd\n",
        "from sklearn.feature_extraction.text import TfidfVectorizer"
      ]
    },
    {
      "cell_type": "code",
      "execution_count": 2,
      "id": "e6e61ef3",
      "metadata": {
        "id": "e6e61ef3"
      },
      "outputs": [],
      "source": [
        "documentA = 'Jupiter is the largest Planet'\n",
        "documentB = 'Mars is the fourth planet from the Sun'"
      ]
    },
    {
      "cell_type": "code",
      "execution_count": 7,
      "id": "c5c9de19",
      "metadata": {
        "id": "c5c9de19"
      },
      "outputs": [],
      "source": [
        "bagOfWordsA = documentA.split(' ')\n",
        "bagOfWordsB = documentB.split(' ')"
      ]
    },
    {
      "cell_type": "code",
      "execution_count": 6,
      "id": "fbaf6446",
      "metadata": {
        "colab": {
          "base_uri": "https://localhost:8080/"
        },
        "id": "fbaf6446",
        "outputId": "766dd1a7-b489-442d-b7f6-93871beb08e6"
      },
      "outputs": [
        {
          "output_type": "execute_result",
          "data": {
            "text/plain": [
              "{'Jupiter',\n",
              " 'Mars',\n",
              " 'Planet',\n",
              " 'Sun',\n",
              " 'fourth',\n",
              " 'from',\n",
              " 'is',\n",
              " 'largest',\n",
              " 'planet',\n",
              " 'the'}"
            ]
          },
          "metadata": {},
          "execution_count": 6
        }
      ],
      "source": [
        "uniqueWords = set(bagOfWordsA).union(set(bagOfWordsB))\n",
        "uniqueWords"
      ]
    },
    {
      "cell_type": "code",
      "execution_count": 8,
      "id": "084d4b7b",
      "metadata": {
        "id": "084d4b7b"
      },
      "outputs": [],
      "source": [
        "numOfWordsA = dict.fromkeys(uniqueWords, 0)\n",
        "for word in bagOfWordsA:\n",
        "    numOfWordsA[word] += 1\n",
        "    numOfWordsB = dict.fromkeys(uniqueWords, 0)\n",
        "for word in bagOfWordsB:\n",
        "    numOfWordsB[word] += 1"
      ]
    },
    {
      "cell_type": "code",
      "execution_count": 9,
      "id": "de5bcaa8",
      "metadata": {
        "colab": {
          "base_uri": "https://localhost:8080/"
        },
        "id": "de5bcaa8",
        "outputId": "669b2e14-a159-49ab-bc45-04e77e1c2dde"
      },
      "outputs": [
        {
          "output_type": "execute_result",
          "data": {
            "text/plain": [
              "{'Jupiter': 1,\n",
              " 'Mars': 0,\n",
              " 'Planet': 1,\n",
              " 'Sun': 0,\n",
              " 'fourth': 0,\n",
              " 'from': 0,\n",
              " 'is': 1,\n",
              " 'largest': 1,\n",
              " 'planet': 0,\n",
              " 'the': 1}"
            ]
          },
          "metadata": {},
          "execution_count": 9
        }
      ],
      "source": [
        "numOfWordsA"
      ]
    },
    {
      "cell_type": "code",
      "execution_count": 10,
      "id": "69d9b2c9",
      "metadata": {
        "id": "69d9b2c9"
      },
      "outputs": [],
      "source": [
        "#calculatinf TF\n",
        "def computeTF(wordDict, bagOfWords):\n",
        "    tfDict = {}\n",
        "    bagOfWordsCount = len(bagOfWords)\n",
        "    for word, count in wordDict.items():\n",
        "        tfDict[word] = count / float(bagOfWordsCount)\n",
        "    return tfDict\n",
        "TfA = computeTF(numOfWordsA, bagOfWordsA)\n",
        "TfB = computeTF(numOfWordsB, bagOfWordsB)"
      ]
    },
    {
      "cell_type": "code",
      "execution_count": 11,
      "id": "dd16dc17",
      "metadata": {
        "colab": {
          "base_uri": "https://localhost:8080/"
        },
        "id": "dd16dc17",
        "outputId": "166c13e7-b33f-4539-8538-61a04acb591c"
      },
      "outputs": [
        {
          "output_type": "execute_result",
          "data": {
            "text/plain": [
              "{'Jupiter': 0.2,\n",
              " 'Mars': 0.0,\n",
              " 'Planet': 0.2,\n",
              " 'Sun': 0.0,\n",
              " 'fourth': 0.0,\n",
              " 'from': 0.0,\n",
              " 'is': 0.2,\n",
              " 'largest': 0.2,\n",
              " 'planet': 0.0,\n",
              " 'the': 0.2}"
            ]
          },
          "metadata": {},
          "execution_count": 11
        }
      ],
      "source": [
        "TfA"
      ]
    },
    {
      "cell_type": "code",
      "execution_count": 12,
      "id": "2dc21032",
      "metadata": {
        "colab": {
          "base_uri": "https://localhost:8080/"
        },
        "id": "2dc21032",
        "outputId": "67e79c7c-27f6-49c4-cf20-b7080c7dbefb"
      },
      "outputs": [
        {
          "output_type": "execute_result",
          "data": {
            "text/plain": [
              "{'Jupiter': 0.0,\n",
              " 'Mars': 0.125,\n",
              " 'Planet': 0.0,\n",
              " 'Sun': 0.125,\n",
              " 'fourth': 0.125,\n",
              " 'from': 0.125,\n",
              " 'is': 0.125,\n",
              " 'largest': 0.0,\n",
              " 'planet': 0.125,\n",
              " 'the': 0.25}"
            ]
          },
          "metadata": {},
          "execution_count": 12
        }
      ],
      "source": [
        "TfB"
      ]
    },
    {
      "cell_type": "code",
      "execution_count": 13,
      "id": "e578ad21",
      "metadata": {
        "id": "e578ad21"
      },
      "outputs": [],
      "source": [
        "import math\n",
        "def computeIDF(documents):\n",
        "    N = len(documents)\n",
        "    idfDict = dict.fromkeys(documents[0].keys(), 0)\n",
        "    for document in documents:\n",
        "        for word, val in document.items():\n",
        "            if val > 0:\n",
        "                idfDict[word] += 1\n",
        "    for word, val in idfDict.items():\n",
        "        idfDict[word] = math.log(N / float(val))\n",
        "    return idfDict\n"
      ]
    },
    {
      "cell_type": "code",
      "execution_count": 14,
      "id": "ec92a4d5",
      "metadata": {
        "colab": {
          "base_uri": "https://localhost:8080/"
        },
        "id": "ec92a4d5",
        "outputId": "9cdc0313-c75b-4c20-fbb3-a19a11130ee4"
      },
      "outputs": [
        {
          "output_type": "execute_result",
          "data": {
            "text/plain": [
              "{'Jupiter': 0.6931471805599453,\n",
              " 'Mars': 0.6931471805599453,\n",
              " 'Planet': 0.6931471805599453,\n",
              " 'Sun': 0.6931471805599453,\n",
              " 'fourth': 0.6931471805599453,\n",
              " 'from': 0.6931471805599453,\n",
              " 'is': 0.0,\n",
              " 'largest': 0.6931471805599453,\n",
              " 'planet': 0.6931471805599453,\n",
              " 'the': 0.0}"
            ]
          },
          "metadata": {},
          "execution_count": 14
        }
      ],
      "source": [
        "idfs = computeIDF([numOfWordsA, numOfWordsB])\n",
        "idfs"
      ]
    },
    {
      "cell_type": "code",
      "execution_count": 15,
      "id": "e932cc39",
      "metadata": {
        "id": "e932cc39"
      },
      "outputs": [],
      "source": [
        "def computeTFIDF(tfBagOfWords, idfs):\n",
        "    tfidf = {}\n",
        "    for word, val in tfBagOfWords.items():\n",
        "        tfidf[word] = val * idfs[word]\n",
        "    return tfidf"
      ]
    },
    {
      "cell_type": "code",
      "execution_count": 16,
      "id": "bd12a92b",
      "metadata": {
        "colab": {
          "base_uri": "https://localhost:8080/",
          "height": 112
        },
        "id": "bd12a92b",
        "outputId": "11e496fc-fba9-413a-d1cc-ac7675fec8ec"
      },
      "outputs": [
        {
          "output_type": "execute_result",
          "data": {
            "text/plain": [
              "    Jupiter   is      from    planet   largest       Sun  the    Planet  \\\n",
              "0  0.138629  0.0  0.000000  0.000000  0.138629  0.000000  0.0  0.138629   \n",
              "1  0.000000  0.0  0.086643  0.086643  0.000000  0.086643  0.0  0.000000   \n",
              "\n",
              "     fourth      Mars  \n",
              "0  0.000000  0.000000  \n",
              "1  0.086643  0.086643  "
            ],
            "text/html": [
              "\n",
              "  <div id=\"df-6c8c0691-0887-4116-8793-588476609254\">\n",
              "    <div class=\"colab-df-container\">\n",
              "      <div>\n",
              "<style scoped>\n",
              "    .dataframe tbody tr th:only-of-type {\n",
              "        vertical-align: middle;\n",
              "    }\n",
              "\n",
              "    .dataframe tbody tr th {\n",
              "        vertical-align: top;\n",
              "    }\n",
              "\n",
              "    .dataframe thead th {\n",
              "        text-align: right;\n",
              "    }\n",
              "</style>\n",
              "<table border=\"1\" class=\"dataframe\">\n",
              "  <thead>\n",
              "    <tr style=\"text-align: right;\">\n",
              "      <th></th>\n",
              "      <th>Jupiter</th>\n",
              "      <th>is</th>\n",
              "      <th>from</th>\n",
              "      <th>planet</th>\n",
              "      <th>largest</th>\n",
              "      <th>Sun</th>\n",
              "      <th>the</th>\n",
              "      <th>Planet</th>\n",
              "      <th>fourth</th>\n",
              "      <th>Mars</th>\n",
              "    </tr>\n",
              "  </thead>\n",
              "  <tbody>\n",
              "    <tr>\n",
              "      <th>0</th>\n",
              "      <td>0.138629</td>\n",
              "      <td>0.0</td>\n",
              "      <td>0.000000</td>\n",
              "      <td>0.000000</td>\n",
              "      <td>0.138629</td>\n",
              "      <td>0.000000</td>\n",
              "      <td>0.0</td>\n",
              "      <td>0.138629</td>\n",
              "      <td>0.000000</td>\n",
              "      <td>0.000000</td>\n",
              "    </tr>\n",
              "    <tr>\n",
              "      <th>1</th>\n",
              "      <td>0.000000</td>\n",
              "      <td>0.0</td>\n",
              "      <td>0.086643</td>\n",
              "      <td>0.086643</td>\n",
              "      <td>0.000000</td>\n",
              "      <td>0.086643</td>\n",
              "      <td>0.0</td>\n",
              "      <td>0.000000</td>\n",
              "      <td>0.086643</td>\n",
              "      <td>0.086643</td>\n",
              "    </tr>\n",
              "  </tbody>\n",
              "</table>\n",
              "</div>\n",
              "      <button class=\"colab-df-convert\" onclick=\"convertToInteractive('df-6c8c0691-0887-4116-8793-588476609254')\"\n",
              "              title=\"Convert this dataframe to an interactive table.\"\n",
              "              style=\"display:none;\">\n",
              "        \n",
              "  <svg xmlns=\"http://www.w3.org/2000/svg\" height=\"24px\"viewBox=\"0 0 24 24\"\n",
              "       width=\"24px\">\n",
              "    <path d=\"M0 0h24v24H0V0z\" fill=\"none\"/>\n",
              "    <path d=\"M18.56 5.44l.94 2.06.94-2.06 2.06-.94-2.06-.94-.94-2.06-.94 2.06-2.06.94zm-11 1L8.5 8.5l.94-2.06 2.06-.94-2.06-.94L8.5 2.5l-.94 2.06-2.06.94zm10 10l.94 2.06.94-2.06 2.06-.94-2.06-.94-.94-2.06-.94 2.06-2.06.94z\"/><path d=\"M17.41 7.96l-1.37-1.37c-.4-.4-.92-.59-1.43-.59-.52 0-1.04.2-1.43.59L10.3 9.45l-7.72 7.72c-.78.78-.78 2.05 0 2.83L4 21.41c.39.39.9.59 1.41.59.51 0 1.02-.2 1.41-.59l7.78-7.78 2.81-2.81c.8-.78.8-2.07 0-2.86zM5.41 20L4 18.59l7.72-7.72 1.47 1.35L5.41 20z\"/>\n",
              "  </svg>\n",
              "      </button>\n",
              "      \n",
              "  <style>\n",
              "    .colab-df-container {\n",
              "      display:flex;\n",
              "      flex-wrap:wrap;\n",
              "      gap: 12px;\n",
              "    }\n",
              "\n",
              "    .colab-df-convert {\n",
              "      background-color: #E8F0FE;\n",
              "      border: none;\n",
              "      border-radius: 50%;\n",
              "      cursor: pointer;\n",
              "      display: none;\n",
              "      fill: #1967D2;\n",
              "      height: 32px;\n",
              "      padding: 0 0 0 0;\n",
              "      width: 32px;\n",
              "    }\n",
              "\n",
              "    .colab-df-convert:hover {\n",
              "      background-color: #E2EBFA;\n",
              "      box-shadow: 0px 1px 2px rgba(60, 64, 67, 0.3), 0px 1px 3px 1px rgba(60, 64, 67, 0.15);\n",
              "      fill: #174EA6;\n",
              "    }\n",
              "\n",
              "    [theme=dark] .colab-df-convert {\n",
              "      background-color: #3B4455;\n",
              "      fill: #D2E3FC;\n",
              "    }\n",
              "\n",
              "    [theme=dark] .colab-df-convert:hover {\n",
              "      background-color: #434B5C;\n",
              "      box-shadow: 0px 1px 3px 1px rgba(0, 0, 0, 0.15);\n",
              "      filter: drop-shadow(0px 1px 2px rgba(0, 0, 0, 0.3));\n",
              "      fill: #FFFFFF;\n",
              "    }\n",
              "  </style>\n",
              "\n",
              "      <script>\n",
              "        const buttonEl =\n",
              "          document.querySelector('#df-6c8c0691-0887-4116-8793-588476609254 button.colab-df-convert');\n",
              "        buttonEl.style.display =\n",
              "          google.colab.kernel.accessAllowed ? 'block' : 'none';\n",
              "\n",
              "        async function convertToInteractive(key) {\n",
              "          const element = document.querySelector('#df-6c8c0691-0887-4116-8793-588476609254');\n",
              "          const dataTable =\n",
              "            await google.colab.kernel.invokeFunction('convertToInteractive',\n",
              "                                                     [key], {});\n",
              "          if (!dataTable) return;\n",
              "\n",
              "          const docLinkHtml = 'Like what you see? Visit the ' +\n",
              "            '<a target=\"_blank\" href=https://colab.research.google.com/notebooks/data_table.ipynb>data table notebook</a>'\n",
              "            + ' to learn more about interactive tables.';\n",
              "          element.innerHTML = '';\n",
              "          dataTable['output_type'] = 'display_data';\n",
              "          await google.colab.output.renderOutput(dataTable, element);\n",
              "          const docLink = document.createElement('div');\n",
              "          docLink.innerHTML = docLinkHtml;\n",
              "          element.appendChild(docLink);\n",
              "        }\n",
              "      </script>\n",
              "    </div>\n",
              "  </div>\n",
              "  "
            ]
          },
          "metadata": {},
          "execution_count": 16
        }
      ],
      "source": [
        "tfidfA = computeTFIDF(TfA, idfs)\n",
        "tfidfB = computeTFIDF(TfB, idfs)\n",
        "df = pd.DataFrame([tfidfA, tfidfB])\n",
        "df"
      ]
    }
  ],
  "metadata": {
    "kernelspec": {
      "display_name": "Python 3",
      "language": "python",
      "name": "python3"
    },
    "language_info": {
      "codemirror_mode": {
        "name": "ipython",
        "version": 3
      },
      "file_extension": ".py",
      "mimetype": "text/x-python",
      "name": "python",
      "nbconvert_exporter": "python",
      "pygments_lexer": "ipython3",
      "version": "3.8.8"
    },
    "colab": {
      "name": "Ass7_TFIDF.ipynb",
      "provenance": [],
      "include_colab_link": true
    }
  },
  "nbformat": 4,
  "nbformat_minor": 5
}