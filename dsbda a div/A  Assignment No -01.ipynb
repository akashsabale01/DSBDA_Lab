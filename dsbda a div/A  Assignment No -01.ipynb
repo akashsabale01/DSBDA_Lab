{
 "cells": [
  {
   "cell_type": "code",
   "execution_count": null,
   "metadata": {},
   "outputs": [],
   "source": [
    "# Name: Vishal Chumbalkar\n",
    "# TE-A 27"
   ]
  },
  {
   "cell_type": "code",
   "execution_count": 1,
   "metadata": {},
   "outputs": [],
   "source": [
    "import pandas as pd\n",
    "import numpy as np\n",
    "import os\n",
    "import statistics as st"
   ]
  },
  {
   "cell_type": "code",
   "execution_count": 2,
   "metadata": {},
   "outputs": [
    {
     "name": "stdout",
     "output_type": "stream",
     "text": [
      "      Id  SepalLengthCm  SepalWidthCm  PetalLengthCm  PetalWidthCm  \\\n",
      "0      1            5.1           3.5            1.4           0.2   \n",
      "1      2            4.9           3.0            1.4           0.2   \n",
      "2      3            4.7           3.2            1.3           0.2   \n",
      "3      4            4.6           3.1            1.5           0.2   \n",
      "4      5            5.0           3.6            1.4           0.2   \n",
      "..   ...            ...           ...            ...           ...   \n",
      "145  146            6.7           3.0            5.2           2.3   \n",
      "146  147            6.3           2.5            5.0           1.9   \n",
      "147  148            6.5           3.0            5.2           2.0   \n",
      "148  149            6.2           3.4            5.4           2.3   \n",
      "149  150            5.9           3.0            5.1           1.8   \n",
      "\n",
      "            Species  \n",
      "0       Iris-setosa  \n",
      "1       Iris-setosa  \n",
      "2       Iris-setosa  \n",
      "3       Iris-setosa  \n",
      "4       Iris-setosa  \n",
      "..              ...  \n",
      "145  Iris-virginica  \n",
      "146  Iris-virginica  \n",
      "147  Iris-virginica  \n",
      "148  Iris-virginica  \n",
      "149  Iris-virginica  \n",
      "\n",
      "[150 rows x 6 columns]\n"
     ]
    }
   ],
   "source": [
    "os.chdir(\"E:\\Pandas\")\n",
    "data = pd.read_csv(\"Iris.csv\")\n",
    "print(data)"
   ]
  },
  {
   "cell_type": "code",
   "execution_count": 3,
   "metadata": {},
   "outputs": [
    {
     "name": "stdout",
     "output_type": "stream",
     "text": [
      "\n",
      "To show top 5 rows:  using head(): \n",
      "   Id  SepalLengthCm  SepalWidthCm  PetalLengthCm  PetalWidthCm      Species\n",
      "0   1            5.1           3.5            1.4           0.2  Iris-setosa\n",
      "1   2            4.9           3.0            1.4           0.2  Iris-setosa\n",
      "2   3            4.7           3.2            1.3           0.2  Iris-setosa\n",
      "3   4            4.6           3.1            1.5           0.2  Iris-setosa\n",
      "4   5            5.0           3.6            1.4           0.2  Iris-setosa\n"
     ]
    }
   ],
   "source": [
    "print(\"\\nTo show top 5 rows:  using head(): \")\n",
    "print(data.head(5))"
   ]
  },
  {
   "cell_type": "code",
   "execution_count": 4,
   "metadata": {},
   "outputs": [
    {
     "name": "stdout",
     "output_type": "stream",
     "text": [
      "\n",
      "To show last 5 rows:  using tail(): \n",
      "      Id  SepalLengthCm  SepalWidthCm  PetalLengthCm  PetalWidthCm  \\\n",
      "145  146            6.7           3.0            5.2           2.3   \n",
      "146  147            6.3           2.5            5.0           1.9   \n",
      "147  148            6.5           3.0            5.2           2.0   \n",
      "148  149            6.2           3.4            5.4           2.3   \n",
      "149  150            5.9           3.0            5.1           1.8   \n",
      "\n",
      "            Species  \n",
      "145  Iris-virginica  \n",
      "146  Iris-virginica  \n",
      "147  Iris-virginica  \n",
      "148  Iris-virginica  \n",
      "149  Iris-virginica  \n"
     ]
    }
   ],
   "source": [
    "print(\"\\nTo show last 5 rows:  using tail(): \")\n",
    "print(data.tail(5))"
   ]
  },
  {
   "cell_type": "code",
   "execution_count": 5,
   "metadata": {},
   "outputs": [
    {
     "name": "stdout",
     "output_type": "stream",
     "text": [
      "To show columns of datasets\n",
      "Index(['Id', 'SepalLengthCm', 'SepalWidthCm', 'PetalLengthCm', 'PetalWidthCm',\n",
      "       'Species'],\n",
      "      dtype='object')\n"
     ]
    }
   ],
   "source": [
    "print(\"To show columns of datasets\")\n",
    "print(data.columns)"
   ]
  },
  {
   "cell_type": "code",
   "execution_count": 6,
   "metadata": {},
   "outputs": [
    {
     "name": "stdout",
     "output_type": "stream",
     "text": [
      "\n",
      "\n",
      "\n",
      "To show the total rows and columns using shape method \n",
      "(150, 6)\n"
     ]
    }
   ],
   "source": [
    "print(\"\\n\\n\\nTo show the total rows and columns using shape method \")\n",
    "print(data.shape)"
   ]
  },
  {
   "cell_type": "code",
   "execution_count": 7,
   "metadata": {},
   "outputs": [
    {
     "name": "stdout",
     "output_type": "stream",
     "text": [
      "\n",
      "\n",
      " to show the datatypes of in the dataset\n",
      "Id                 int64\n",
      "SepalLengthCm    float64\n",
      "SepalWidthCm     float64\n",
      "PetalLengthCm    float64\n",
      "PetalWidthCm     float64\n",
      "Species           object\n",
      "dtype: object\n"
     ]
    }
   ],
   "source": [
    "print(\"\\n\\n to show the datatypes of in the dataset\")\n",
    "print(data.dtypes)"
   ]
  },
  {
   "cell_type": "code",
   "execution_count": 8,
   "metadata": {},
   "outputs": [
    {
     "name": "stdout",
     "output_type": "stream",
     "text": [
      "To show columns of the dataset\n",
      "['Id' 'SepalLengthCm' 'SepalWidthCm' 'PetalLengthCm' 'PetalWidthCm'\n",
      " 'Species']\n"
     ]
    }
   ],
   "source": [
    "print(\"To show columns of the dataset\")\n",
    "print(data.columns.values)"
   ]
  },
  {
   "cell_type": "code",
   "execution_count": 9,
   "metadata": {},
   "outputs": [
    {
     "name": "stdout",
     "output_type": "stream",
     "text": [
      "\n",
      "\n",
      " To show values of particular columns\n",
      "0      5.1\n",
      "1      4.9\n",
      "2      4.7\n",
      "3      4.6\n",
      "4      5.0\n",
      "      ... \n",
      "145    6.7\n",
      "146    6.3\n",
      "147    6.5\n",
      "148    6.2\n",
      "149    5.9\n",
      "Name: SepalLengthCm, Length: 150, dtype: float64\n"
     ]
    }
   ],
   "source": [
    "print(\"\\n\\n To show values of particular columns\")\n",
    "print(data['SepalLengthCm'])"
   ]
  },
  {
   "cell_type": "code",
   "execution_count": 10,
   "metadata": {},
   "outputs": [
    {
     "name": "stdout",
     "output_type": "stream",
     "text": [
      "\n",
      " sort the columns in descending order \n",
      "            Species  SepalWidthCm  SepalLengthCm  PetalWidthCm  PetalLengthCm  \\\n",
      "0       Iris-setosa           3.5            5.1           0.2            1.4   \n",
      "1       Iris-setosa           3.0            4.9           0.2            1.4   \n",
      "2       Iris-setosa           3.2            4.7           0.2            1.3   \n",
      "3       Iris-setosa           3.1            4.6           0.2            1.5   \n",
      "4       Iris-setosa           3.6            5.0           0.2            1.4   \n",
      "..              ...           ...            ...           ...            ...   \n",
      "145  Iris-virginica           3.0            6.7           2.3            5.2   \n",
      "146  Iris-virginica           2.5            6.3           1.9            5.0   \n",
      "147  Iris-virginica           3.0            6.5           2.0            5.2   \n",
      "148  Iris-virginica           3.4            6.2           2.3            5.4   \n",
      "149  Iris-virginica           3.0            5.9           1.8            5.1   \n",
      "\n",
      "      Id  \n",
      "0      1  \n",
      "1      2  \n",
      "2      3  \n",
      "3      4  \n",
      "4      5  \n",
      "..   ...  \n",
      "145  146  \n",
      "146  147  \n",
      "147  148  \n",
      "148  149  \n",
      "149  150  \n",
      "\n",
      "[150 rows x 6 columns]\n"
     ]
    }
   ],
   "source": [
    "print(\"\\n sort the columns in descending order \")\n",
    "print(data.sort_index(axis=1, ascending=False))"
   ]
  },
  {
   "cell_type": "code",
   "execution_count": 11,
   "metadata": {},
   "outputs": [
    {
     "name": "stdout",
     "output_type": "stream",
     "text": [
      "To sort values by columns names:\n",
      "      Id  SepalLengthCm  SepalWidthCm  PetalLengthCm  PetalWidthCm  \\\n",
      "13    14            4.3           3.0            1.1           0.1   \n",
      "42    43            4.4           3.2            1.3           0.2   \n",
      "38    39            4.4           3.0            1.3           0.2   \n",
      "8      9            4.4           2.9            1.4           0.2   \n",
      "41    42            4.5           2.3            1.3           0.3   \n",
      "..   ...            ...           ...            ...           ...   \n",
      "122  123            7.7           2.8            6.7           2.0   \n",
      "118  119            7.7           2.6            6.9           2.3   \n",
      "117  118            7.7           3.8            6.7           2.2   \n",
      "135  136            7.7           3.0            6.1           2.3   \n",
      "131  132            7.9           3.8            6.4           2.0   \n",
      "\n",
      "            Species  \n",
      "13      Iris-setosa  \n",
      "42      Iris-setosa  \n",
      "38      Iris-setosa  \n",
      "8       Iris-setosa  \n",
      "41      Iris-setosa  \n",
      "..              ...  \n",
      "122  Iris-virginica  \n",
      "118  Iris-virginica  \n",
      "117  Iris-virginica  \n",
      "135  Iris-virginica  \n",
      "131  Iris-virginica  \n",
      "\n",
      "[150 rows x 6 columns]\n"
     ]
    }
   ],
   "source": [
    "print(\"To sort values by columns names:\")\n",
    "print(data.sort_values('SepalLengthCm'))"
   ]
  },
  {
   "cell_type": "code",
   "execution_count": 12,
   "metadata": {},
   "outputs": [
    {
     "name": "stdout",
     "output_type": "stream",
     "text": [
      "To access element an element using iloc[] method\n",
      "Id                         3\n",
      "SepalLengthCm            4.7\n",
      "SepalWidthCm             3.2\n",
      "PetalLengthCm            1.3\n",
      "PetalWidthCm             0.2\n",
      "Species          Iris-setosa\n",
      "Name: 2, dtype: object\n"
     ]
    }
   ],
   "source": [
    "print(\"To access element an element using iloc[] method\")\n",
    "print(data.iloc[2])"
   ]
  },
  {
   "cell_type": "code",
   "execution_count": 13,
   "metadata": {},
   "outputs": [
    {
     "name": "stdout",
     "output_type": "stream",
     "text": [
      "\n",
      "\n",
      "selecting rows using slicing\n",
      "   Id  SepalLengthCm  SepalWidthCm  PetalLengthCm  PetalWidthCm      Species\n",
      "0   1            5.1           3.5            1.4           0.2  Iris-setosa\n",
      "1   2            4.9           3.0            1.4           0.2  Iris-setosa\n",
      "2   3            4.7           3.2            1.3           0.2  Iris-setosa\n",
      "3   4            4.6           3.1            1.5           0.2  Iris-setosa\n",
      "4   5            5.0           3.6            1.4           0.2  Iris-setosa\n"
     ]
    }
   ],
   "source": [
    "print('\\n\\nselecting rows using slicing')\n",
    "print(data[0:5])"
   ]
  },
  {
   "cell_type": "code",
   "execution_count": 14,
   "metadata": {},
   "outputs": [
    {
     "name": "stdout",
     "output_type": "stream",
     "text": [
      "selection by label\n",
      "     SepalLengthCm  SepalWidthCm\n",
      "0              5.1           3.5\n",
      "1              4.9           3.0\n",
      "2              4.7           3.2\n",
      "3              4.6           3.1\n",
      "4              5.0           3.6\n",
      "..             ...           ...\n",
      "145            6.7           3.0\n",
      "146            6.3           2.5\n",
      "147            6.5           3.0\n",
      "148            6.2           3.4\n",
      "149            5.9           3.0\n",
      "\n",
      "[150 rows x 2 columns]\n"
     ]
    }
   ],
   "source": [
    "print(\"selection by label\")\n",
    "print(data.loc[:,[\"SepalLengthCm\",\"SepalWidthCm\"]])"
   ]
  },
  {
   "cell_type": "code",
   "execution_count": 15,
   "metadata": {},
   "outputs": [
    {
     "name": "stdout",
     "output_type": "stream",
     "text": [
      "To show particular columns with particular rows\n",
      "   Id  SepalLengthCm  SepalWidthCm  PetalLengthCm  PetalWidthCm      Species\n",
      "0   1            5.1           3.5            1.4           0.2  Iris-setosa\n",
      "1   2            4.9           3.0            1.4           0.2  Iris-setosa\n",
      "2   3            4.7           3.2            1.3           0.2  Iris-setosa\n",
      "3   4            4.6           3.1            1.5           0.2  Iris-setosa\n",
      "4   5            5.0           3.6            1.4           0.2  Iris-setosa\n"
     ]
    }
   ],
   "source": [
    "print(\"To show particular columns with particular rows\")\n",
    "print(data.iloc[:5,:])"
   ]
  },
  {
   "cell_type": "code",
   "execution_count": 16,
   "metadata": {},
   "outputs": [
    {
     "name": "stdout",
     "output_type": "stream",
     "text": [
      "group of species and there counts are: \n",
      " Species\n",
      "Iris-setosa        50\n",
      "Iris-versicolor    50\n",
      "Iris-virginica     50\n",
      "Name: Id, dtype: int64\n"
     ]
    }
   ],
   "source": [
    "groupby=data.groupby([\"Species\"])[\"Id\"].count()\n",
    "#x=ir.groupby('Species')\n",
    "print(\"group of species and there counts are: \\n\",groupby)"
   ]
  },
  {
   "cell_type": "code",
   "execution_count": 25,
   "metadata": {},
   "outputs": [
    {
     "name": "stdout",
     "output_type": "stream",
     "text": [
      "               Id  SepalLengthCm  SepalWidthCm  PetalLengthCm  PetalWidthCm\n",
      "count  150.000000     150.000000    150.000000     150.000000    150.000000\n",
      "mean    75.500000       5.843333      3.054000       3.758667      1.198667\n",
      "std     43.445368       0.828066      0.433594       1.764420      0.763161\n",
      "min      1.000000       4.300000      2.000000       1.000000      0.100000\n",
      "25%     38.250000       5.100000      2.800000       1.600000      0.300000\n",
      "50%     75.500000       5.800000      3.000000       4.350000      1.300000\n",
      "75%    112.750000       6.400000      3.300000       5.100000      1.800000\n",
      "max    150.000000       7.900000      4.400000       6.900000      2.500000\n"
     ]
    }
   ],
   "source": [
    "z = data.describe()\n",
    "print(z)"
   ]
  },
  {
   "cell_type": "code",
   "execution_count": 19,
   "metadata": {},
   "outputs": [
    {
     "name": "stdout",
     "output_type": "stream",
     "text": [
      "\n",
      "To calculate the mean: \n",
      "5.843333333333334\n"
     ]
    }
   ],
   "source": [
    "print(\"\\nTo calculate the mean: \")\n",
    "mean = st.mean(data.SepalLengthCm)\n",
    "print(mean)"
   ]
  },
  {
   "cell_type": "code",
   "execution_count": 20,
   "metadata": {},
   "outputs": [
    {
     "name": "stdout",
     "output_type": "stream",
     "text": [
      "\n",
      "median of PetalLengthCm is : 4.35\n"
     ]
    }
   ],
   "source": [
    "median=st.median(data.PetalLengthCm)\n",
    "print(\"\\nmedian of PetalLengthCm is :\",median)"
   ]
  },
  {
   "cell_type": "code",
   "execution_count": 21,
   "metadata": {},
   "outputs": [
    {
     "name": "stdout",
     "output_type": "stream",
     "text": [
      "\n",
      "standard deviation of PetalLengthCm is : 1.7644204199522626\n"
     ]
    }
   ],
   "source": [
    "stdev=st.stdev(data.PetalLengthCm)\n",
    "print(\"\\nstandard deviation of PetalLengthCm is :\",stdev)\n"
   ]
  },
  {
   "cell_type": "code",
   "execution_count": 22,
   "metadata": {},
   "outputs": [
    {
     "name": "stdout",
     "output_type": "stream",
     "text": [
      "\n",
      "variance of PetalLength is : 3.113179418344519\n"
     ]
    }
   ],
   "source": [
    "variance=st.variance(data.PetalLengthCm)\n",
    "print(\"\\nvariance of PetalLength is :\",variance)"
   ]
  },
  {
   "cell_type": "code",
   "execution_count": 23,
   "metadata": {},
   "outputs": [
    {
     "name": "stdout",
     "output_type": "stream",
     "text": [
      "\n",
      "mode of PetalLengthCm is : 1.5\n"
     ]
    }
   ],
   "source": [
    "mode=st.mode(data.PetalLengthCm)\n",
    "print(\"\\nmode of PetalLengthCm is :\",mode)"
   ]
  },
  {
   "cell_type": "code",
   "execution_count": 24,
   "metadata": {},
   "outputs": [
    {
     "name": "stdout",
     "output_type": "stream",
     "text": [
      "\n",
      "percentile of PetalLengthCm about 0.5 is : 4.35\n"
     ]
    }
   ],
   "source": [
    "percentile=data.PetalLengthCm.quantile(0.5)\n",
    "print(\"\\npercentile of PetalLengthCm about 0.5 is :\",percentile)"
   ]
  }
 ],
 "metadata": {
  "kernelspec": {
   "display_name": "Python 3",
   "language": "python",
   "name": "python3"
  },
  "language_info": {
   "codemirror_mode": {
    "name": "ipython",
    "version": 3
   },
   "file_extension": ".py",
   "mimetype": "text/x-python",
   "name": "python",
   "nbconvert_exporter": "python",
   "pygments_lexer": "ipython3",
   "version": "3.8.3"
  }
 },
 "nbformat": 4,
 "nbformat_minor": 4
}
