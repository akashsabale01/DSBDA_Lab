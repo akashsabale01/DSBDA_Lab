{
  "cells": [
    {
      "cell_type": "markdown",
      "metadata": {
        "id": "view-in-github",
        "colab_type": "text"
      },
      "source": [
        "<a href=\"https://colab.research.google.com/github/akashsabale01/DSBDA_Lab/blob/main/Ass_No_4_Linear_Regression.ipynb\" target=\"_parent\"><img src=\"https://colab.research.google.com/assets/colab-badge.svg\" alt=\"Open In Colab\"/></a>"
      ]
    },
    {
      "cell_type": "markdown",
      "source": [
        "# Ass No 4 - Data Analytics I\n",
        "Create a Linear Regression Model using Python/R to predict home prices using Boston Housing\n",
        "Dataset (https://www.kaggle.com/c/boston-housing). The Boston Housing dataset contains\n",
        "information about various houses in Boston through different parameters. There are 506 samples\n",
        "and 14 feature variables in this dataset.\n",
        "\n",
        "The objective is to predict the value of prices of the house using the given features"
      ],
      "metadata": {
        "id": "bjVipMdfyHd6"
      },
      "id": "bjVipMdfyHd6"
    },
    {
      "cell_type": "code",
      "execution_count": 16,
      "id": "63b64914",
      "metadata": {
        "id": "63b64914"
      },
      "outputs": [],
      "source": [
        "import sklearn\n",
        "from sklearn import linear_model\n",
        "import matplotlib.pyplot as plt\n",
        "import numpy as np"
      ]
    },
    {
      "cell_type": "code",
      "source": [
        "feature = np.array([0,1,2,3,4,5,6,7,8,9])\n",
        "target = np.array([1,3,2,5,7,8,8,9,10,12])\n",
        "\n",
        "#initializaing linear regression model\n",
        "linear_reg = linear_model.LinearRegression()"
      ],
      "metadata": {
        "id": "cE38iRycvnF5"
      },
      "id": "cE38iRycvnF5",
      "execution_count": 17,
      "outputs": []
    },
    {
      "cell_type": "code",
      "execution_count": 6,
      "id": "b35af1af",
      "metadata": {
        "id": "b35af1af"
      },
      "outputs": [],
      "source": [
        "#Reshaping (converting 1D array to 2D array i.e. column will be one and no of rows are dynamic) the array since you only have a single feature\n",
        "# target and feature variables are independent and dependent variables respectively\n",
        "feature = feature.reshape(-1,1)\n",
        "target = target.reshape(-1,1)\n"
      ]
    },
    {
      "cell_type": "code",
      "execution_count": 7,
      "id": "d7c29b17",
      "metadata": {
        "id": "d7c29b17",
        "outputId": "31f69cc4-ae91-4ca9-f60f-068dbd6a1d82",
        "colab": {
          "base_uri": "https://localhost:8080/"
        }
      },
      "outputs": [
        {
          "output_type": "execute_result",
          "data": {
            "text/plain": [
              "LinearRegression()"
            ]
          },
          "metadata": {},
          "execution_count": 7
        }
      ],
      "source": [
        "#fitting the model on data\n",
        "linear_reg.fit(feature, target)\n"
      ]
    },
    {
      "cell_type": "code",
      "execution_count": 8,
      "id": "615e5da9",
      "metadata": {
        "id": "615e5da9",
        "outputId": "84fe1156-70f7-4382-e2c5-cc08a0a2ec61",
        "colab": {
          "base_uri": "https://localhost:8080/"
        }
      },
      "outputs": [
        {
          "output_type": "stream",
          "name": "stdout",
          "text": [
            "\n",
            "Regression Coefficient= [[1.16969697]]\n",
            "\n",
            "Regression intercept= [1.23636364]\n"
          ]
        }
      ],
      "source": [
        "print(\"\\nRegression Coefficient=\", linear_reg.coef_)\n",
        "print(\"\\nRegression intercept=\", linear_reg.intercept_)\n"
      ]
    },
    {
      "cell_type": "code",
      "execution_count": 9,
      "id": "365447e2",
      "metadata": {
        "id": "365447e2",
        "outputId": "0e186a7c-3622-425d-8643-e3e7d30125c1",
        "colab": {
          "base_uri": "https://localhost:8080/"
        }
      },
      "outputs": [
        {
          "output_type": "stream",
          "name": "stdout",
          "text": [
            "\n",
            "Predicted value of y for x=10 is [[12.93333333]]\n"
          ]
        }
      ],
      "source": [
        "#predict the value of y for x=10\n",
        "pred=np.array([10])\n",
        "pred=pred.reshape(-1,1)\n",
        "print(\"\\nPredicted value of y for x=10 is\", linear_reg.predict(pred))\n"
      ]
    },
    {
      "cell_type": "code",
      "execution_count": 10,
      "id": "b6b4d91d",
      "metadata": {
        "id": "b6b4d91d",
        "outputId": "a01f69d5-a62e-4860-bde5-17e80a61a90a",
        "colab": {
          "base_uri": "https://localhost:8080/",
          "height": 282
        }
      },
      "outputs": [
        {
          "output_type": "execute_result",
          "data": {
            "text/plain": [
              "<matplotlib.collections.PathCollection at 0x7fb098ef6690>"
            ]
          },
          "metadata": {},
          "execution_count": 10
        },
        {
          "output_type": "display_data",
          "data": {
            "text/plain": [
              "<Figure size 432x288 with 1 Axes>"
            ],
            "image/png": "[encoded data removed]"
          },
          "metadata": {
            "needs_background": "light"
          }
        }
      ],
      "source": [
        "#creating the scatter plot for points\n",
        "plt.scatter(feature,target)"
      ]
    },
    {
      "cell_type": "code",
      "execution_count": 11,
      "id": "eaab5ba4",
      "metadata": {
        "id": "eaab5ba4",
        "outputId": "9f73bacd-a1f2-46c7-f99d-630e301a47f5",
        "colab": {
          "base_uri": "https://localhost:8080/",
          "height": 312
        }
      },
      "outputs": [
        {
          "output_type": "execute_result",
          "data": {
            "text/plain": [
              "Text(0.5, 1.0, 'Linear Regression Example')"
            ]
          },
          "metadata": {},
          "execution_count": 11
        },
        {
          "output_type": "display_data",
          "data": {
            "text/plain": [
              "<Figure size 432x288 with 1 Axes>"
            ],
            "image/png": "[encoded data removed]"
          },
          "metadata": {
            "needs_background": "light"
          }
        }
      ],
      "source": [
        "plt.xlabel('x-axis')\n",
        "plt.ylabel('y-axis')\n",
        "\n",
        "plt.title('Linear Regression Example')\n"
      ]
    },
    {
      "cell_type": "code",
      "execution_count": 12,
      "id": "becaffbb",
      "metadata": {
        "id": "becaffbb",
        "outputId": "7769d9a3-9e91-4b36-f5cf-07f19d16cb74",
        "colab": {
          "base_uri": "https://localhost:8080/",
          "height": 265
        }
      },
      "outputs": [
        {
          "output_type": "display_data",
          "data": {
            "text/plain": [
              "<Figure size 432x288 with 1 Axes>"
            ],
            "image/png": "[encoded data removed]"
          },
          "metadata": {
            "needs_background": "light"
          }
        }
      ],
      "source": [
        "#Define the limits for x axis based on features and target and creating the regression line\n",
        "x_lim = np.linspace(min(feature),max(feature)).reshape(-1,1)\n",
        "plt.plot(x_lim,linear_reg.predict(x_lim),color='red')\n",
        "plt.show()"
      ]
    },
    {
      "cell_type": "code",
      "execution_count": 14,
      "id": "30d97ecc",
      "metadata": {
        "scrolled": true,
        "id": "30d97ecc",
        "outputId": "173a94df-df5e-4c72-af78-8177e2dc8070",
        "colab": {
          "base_uri": "https://localhost:8080/",
          "height": 330
        }
      },
      "outputs": [
        {
          "output_type": "stream",
          "name": "stdout",
          "text": [
            "\n",
            "Predicted value of y for x=10 is [[12.93333333]]\n"
          ]
        },
        {
          "output_type": "display_data",
          "data": {
            "text/plain": [
              "<Figure size 432x288 with 1 Axes>"
            ],
            "image/png": "[encoded data removed]"
          },
          "metadata": {
            "needs_background": "light"
          }
        }
      ],
      "source": [
        "#predict the value of y for x=10\n",
        "pred=np.array([10])\n",
        "pred=pred.reshape(-1,1)\n",
        "print(\"\\nPredicted value of y for x=10 is\", linear_reg.predict(pred))\n",
        "\n",
        "#creating the scatter plot for points\n",
        "plt.scatter(feature,target)\n",
        "plt.xlabel('x')\n",
        "plt.ylabel('y')\n",
        "\n",
        "plt.title('Linear Regression Example')\n",
        "\n",
        "#Define the limits for x axis based on features and target and creating the regression line\n",
        "x_lim = np.linspace(min(feature),max(feature)).reshape(-1,1)\n",
        "plt.plot(x_lim,linear_reg.predict(x_lim),color='red')\n",
        "plt.show()"
      ]
    }
  ],
  "metadata": {
    "kernelspec": {
      "display_name": "Python 3",
      "language": "python",
      "name": "python3"
    },
    "language_info": {
      "codemirror_mode": {
        "name": "ipython",
        "version": 3
      },
      "file_extension": ".py",
      "mimetype": "text/x-python",
      "name": "python",
      "nbconvert_exporter": "python",
      "pygments_lexer": "ipython3",
      "version": "3.8.8"
    },
    "colab": {
      "name": "Linear_Regression_Code.ipynb",
      "provenance": [],
      "collapsed_sections": [],
      "include_colab_link": true
    }
  },
  "nbformat": 4,
  "nbformat_minor": 5
}